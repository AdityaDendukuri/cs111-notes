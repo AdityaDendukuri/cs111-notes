{
 "cells": [
  {
   "cell_type": "markdown",
   "metadata": {},
   "source": [
    "# <font color=\"green\">Demonstration of the Temperature Problem</font>\n",
    "\n",
    "### We'll start off by importing what we need"
   ]
  },
  {
   "cell_type": "code",
   "execution_count": 1,
   "metadata": {},
   "outputs": [],
   "source": [
    "# The usual suspects...\n",
    "import numpy as np\n",
    "import numpy.linalg as npla\n",
    "\n",
    "# We'll need to import these to deal with SPARSE matrices\n",
    "import scipy\n",
    "import scipy.sparse.linalg as spla\n",
    "from scipy import sparse\n",
    "from scipy import linalg\n",
    "\n",
    "# These are so we can make pretty 2D & 3D plots...\n",
    "import matplotlib.pyplot as plt\n",
    "from matplotlib import cm\n",
    "from mpl_toolkits.mplot3d import axes3d\n",
    "%matplotlib tk"
   ]
  },
  {
   "cell_type": "markdown",
   "metadata": {},
   "source": [
    "## We'll create 3 functions for our use:\n",
    "### 1. make_A(k)    --- creates the nxn matrix we need from a kxk sized room model\n",
    "### 2. make_b(k)    --- creates the right-hand side vector in the Ax = b setup\n",
    "### 3. radiator(k)    --- creates a radiator wall at a set temperature (default is 100)"
   ]
  },
  {
   "cell_type": "code",
   "execution_count": 3,
   "metadata": {},
   "outputs": [],
   "source": [
    "def make_A(k):\n",
    "    \"\"\"Create the matrix for the temperature problem on a k-by-k grid (2-dimensional).\n",
    "    Parameters: \n",
    "      k: number of grid points in each dimension.\n",
    "    Outputs:\n",
    "      A: the sparse k**2-by-k**2 matrix representing the finite difference approximation to Poisson's equation.\n",
    "    \"\"\"\n",
    "    # First make a list with one triple (row, column, value) for each nonzero element of A\n",
    "    triples = []\n",
    "    for i in range(k):\n",
    "        for j in range(k):\n",
    "            # what row of the matrix is grid point (i,j)?\n",
    "            row = j + i*k\n",
    "            # the diagonal element in this row\n",
    "            triples.append((row, row, 4.0))\n",
    "            # connect to left grid neighbor\n",
    "            if j > 0:\n",
    "                triples.append((row, row - 1, -1.0))\n",
    "            # ... right neighbor\n",
    "            if j < k - 1:\n",
    "                triples.append((row, row + 1, -1.0))\n",
    "            # ... neighbor above\n",
    "            if i > 0:\n",
    "                triples.append((row, row - k, -1.0))\n",
    "            # ... neighbor below\n",
    "            if i < k - 1:\n",
    "                triples.append((row, row + k, -1.0))\n",
    "    \n",
    "    # Finally convert the list of triples to a scipy sparse matrix\n",
    "    ndim = k*k\n",
    "    rownum = [t[0] for t in triples]\n",
    "    colnum = [t[1] for t in triples]\n",
    "    values = [t[2] for t in triples]\n",
    "    A = sparse.csr_matrix((values, (rownum, colnum)), shape = (ndim, ndim))\n",
    "    \n",
    "    return A "
   ]
  },
  {
   "cell_type": "code",
   "execution_count": 4,
   "metadata": {},
   "outputs": [],
   "source": [
    "def make_b(k, top = 0, bottom = 0, left = 0, right = 0):\n",
    "    \"\"\"Create the right-hand side for the temperature problem on a k-by-k grid.\n",
    "    Parameters: \n",
    "      k: number of grid points in each dimension.\n",
    "      top: list of k values for top boundary (optional, defaults to 0)\n",
    "      bottom: list of k values for bottom boundary (optional, defaults to 0)\n",
    "      left: list of k values for top boundary (optional, defaults to 0)\n",
    "      right: list of k values for top boundary (optional, defaults to 0)\n",
    "    Outputs:\n",
    "      b: the k**2 element vector (as a numpy array) for the rhs of the Poisson equation with given boundary conditions\n",
    "    \"\"\"\n",
    "    # Start with a vector of zeros\n",
    "    ndim = k*k\n",
    "    b = np.zeros(shape = ndim)\n",
    "    \n",
    "    # Fill in the four boundaries as appropriate\n",
    "    b[0        : k       ] += top\n",
    "    b[ndim - k : ndim    ] += bottom\n",
    "    b[0        : ndim : k] += left\n",
    "    b[k-1      : ndim : k] += right\n",
    "    \n",
    "    return b"
   ]
  },
  {
   "cell_type": "code",
   "execution_count": 5,
   "metadata": {},
   "outputs": [],
   "source": [
    "def radiator(k, width = .2, temperature = 100.):\n",
    "    \"\"\"Create one wall with a radiator\n",
    "    Parameters: \n",
    "      k: number of grid points in each dimension; length of the wall.\n",
    "      width: width of the radiator as a fraction of length of the wall (defaults to 0.2)\n",
    "      temperature: temperature of the radiator (defaults to 100)\n",
    "    Outputs:\n",
    "      wall: the k element vector (as a numpy array) for the boundary conditions at the wall\n",
    "    \"\"\"\n",
    "    rad_start = int(k * (0.5 - width/2))\n",
    "    rad_end = int(k * (0.5 + width/2))\n",
    "    wall = np.zeros(k)\n",
    "    wall[rad_start : rad_end] = temperature\n",
    "    \n",
    "    return wall"
   ]
  },
  {
   "cell_type": "markdown",
   "metadata": {},
   "source": [
    "## We will now set up the problem!"
   ]
  },
  {
   "cell_type": "markdown",
   "metadata": {},
   "source": [
    "### <font color=\"green\"> 1. Set the value of k </font>\n",
    "**This is the dimension of the division of square room into k^2 cells.** The larger you make **k**, the more fine/accurate you can make the temperature calculations. Downside to making **k** larger? More data points (longer run time, more memory use).\n",
    "\n",
    "### <font color=\"green\">2. Set the width of the radiator that will be on one or more sides of the room</font>\n",
    "The default is set to the radiator being 0.2 (or 20%) the size of the side of the room\n",
    "\n",
    "### <font color=\"green\">3. Create the A matrix</font>\n",
    "**All this needs is the value of k**. It has nothing to do with anything ***but*** the dimensions of the room. The size of **A** is **k x k**.\n",
    "\n",
    "### <font color=\"green\">4. Create the b vector</font>\n",
    "**All this needs is the value of k and the location of the radiator(s)**. This will set up the initial conditions needed for the Poisson's Equation to run. In essence, the b vector reflects the notion if a certain part of the wall of the room has a radiator on it or not. The size of **b** is **k x 1**.\n",
    "\n",
    "### <font color=\"green\">5. Solve for the t vector</font>\n",
    "This is the vector that has the temperature in every cell of the room. The size of **x** is **k x 1**.\n"
   ]
  },
  {
   "cell_type": "code",
   "execution_count": 20,
   "metadata": {
    "scrolled": false
   },
   "outputs": [],
   "source": [
    "###########################\n",
    "# Dimension of the square room (NOT the matrix)\n",
    "# TRY using various values between 2 and 100\n",
    "\n",
    "#k = 3    # Same as \"simple\" example given in lecture\n",
    "#k = 10\n",
    "#k = 100\n",
    "k = 1000\n",
    "\n",
    "###########################\n",
    "# Set up the width of the radiator\n",
    "# Default (per the function def) is 0.2\n",
    "# This is a number relative to the length of the side\n",
    "rk = radiator(k, width = 1)\n",
    "\n",
    "# print('rk =', rk)\n",
    "\n",
    "###########################\n",
    "# Create the matrix!\n",
    "# A will be the sparse nxn matrix (where n = k**2)\n",
    "A = make_A(k)\n",
    "\n",
    "###########################\n",
    "# Create the b matrix: defines where the radiators go in the room\n",
    "# SIDE=rk is placement of radiator, where SIDE can be (top, right, bottom, left)\n",
    "b = make_b(k, right=rk)\n",
    "#b = make_b(k, right=rk, left=rk, top=rk, bottom=rk)\n",
    "\n",
    "# print('b =', b)\n",
    "\n",
    "###########################\n",
    "# Print stuff to 's see what we got...\n",
    "\n",
    "# print(\"A: (sparse):\\n\",A)\n",
    "# print()\n",
    "# print(\"A (dense):\\n\", A.todense())\n",
    "# print(\"\\nb:\", b)\n",
    "# print(\"\\nrad:\", rk)"
   ]
  },
  {
   "cell_type": "code",
   "execution_count": null,
   "metadata": {},
   "outputs": [],
   "source": [
    "#print(npla.solve(A,b))\n",
    "\n",
    "# It won't work... :(\n",
    "# BECAUSE A is actually a SPARSE matrix (.solve() won't work with that format)"
   ]
  },
  {
   "cell_type": "code",
   "execution_count": null,
   "metadata": {},
   "outputs": [],
   "source": [
    "# This is how you go back to a dense matrix format:\n",
    "AA = sparse.csr_matrix.todense(A)\n",
    "print(AA)\n",
    "#print(npla.solve(AA,b))\n",
    "\n",
    "# But we won't use this format either..."
   ]
  },
  {
   "cell_type": "code",
   "execution_count": 21,
   "metadata": {},
   "outputs": [
    {
     "name": "stdout",
     "output_type": "stream",
     "text": [
      "[1.09203601e-04 2.18408326e-04 3.27615300e-04 ... 2.09385819e+01\n",
      " 3.02345090e+01 4.99998908e+01] \n",
      "\n",
      "[[1.09203601e-04 2.18408326e-04 3.27615300e-04 ... 2.09385819e+01\n",
      "  3.02345090e+01 4.99998908e+01]\n",
      " [2.18406079e-04 4.36814405e-04 6.55227227e-04 ... 3.76707265e+01\n",
      "  4.99995632e+01 6.97650542e+01]\n",
      " [3.27606308e-04 6.55215988e-04 9.82832411e-04 ... 4.99990172e+01\n",
      "  6.23279631e+01 7.90607629e+01]\n",
      " ...\n",
      " [3.27606308e-04 6.55215988e-04 9.82832411e-04 ... 4.99990172e+01\n",
      "  6.23279631e+01 7.90607629e+01]\n",
      " [2.18406079e-04 4.36814405e-04 6.55227227e-04 ... 3.76707265e+01\n",
      "  4.99995632e+01 6.97650542e+01]\n",
      " [1.09203601e-04 2.18408326e-04 3.27615300e-04 ... 2.09385819e+01\n",
      "  3.02345090e+01 4.99998908e+01]]\n"
     ]
    }
   ],
   "source": [
    "# NOW!!! WE SOLVE IT!!\n",
    "# We're going to use a different function (not .solve) altogether to solve Ax=b using a sparse matrix:\n",
    "t = spla.spsolve(A,b)\n",
    "\n",
    "# Reshape it back to a model (square) of the room\n",
    "T = t.reshape(k,k)\n",
    "\n",
    "print(t,\"\\n\")\n",
    "print(T)\n",
    "# Looking at the data printed out is hopeless... you NEED to visualize it..."
   ]
  },
  {
   "cell_type": "markdown",
   "metadata": {},
   "source": [
    "## Here come the Graphs!\n",
    "\n",
    "**Let's start with a simple demonstration...**"
   ]
  },
  {
   "cell_type": "code",
   "execution_count": 12,
   "metadata": {},
   "outputs": [
    {
     "data": {
      "text/plain": [
       "[<matplotlib.lines.Line2D at 0x177eb1d50>]"
      ]
     },
     "execution_count": 12,
     "metadata": {},
     "output_type": "execute_result"
    }
   ],
   "source": [
    "# Simple demonstration of the plotting function in PyPlot\n",
    "\n",
    "wave = np.sin( np.array(range(200)) / 100 * 2 * np.pi)\n",
    "\n",
    "#print(wave)\n",
    "plt.plot(wave)"
   ]
  },
  {
   "cell_type": "markdown",
   "metadata": {},
   "source": [
    "### Ok... now for the real thing..."
   ]
  },
  {
   "cell_type": "code",
   "execution_count": 22,
   "metadata": {},
   "outputs": [
    {
     "data": {
      "text/plain": [
       "<matplotlib.image.AxesImage at 0x29e7ac670>"
      ]
     },
     "execution_count": 22,
     "metadata": {},
     "output_type": "execute_result"
    }
   ],
   "source": [
    "# Prep the plotter...\n",
    "# Plot just a 2D image\n",
    "\n",
    "#%matplotlib tk\n",
    "plt.figure()\n",
    "plt.imshow(T, cmap=cm.hot)"
   ]
  },
  {
   "cell_type": "markdown",
   "metadata": {},
   "source": [
    "### Let's try and project the 2D graph onto a 3D representation!"
   ]
  },
  {
   "cell_type": "code",
   "execution_count": null,
   "metadata": {},
   "outputs": [],
   "source": [
    "print(k)"
   ]
  },
  {
   "cell_type": "code",
   "execution_count": 23,
   "metadata": {},
   "outputs": [],
   "source": [
    "# Prep the plotter again...\n",
    "X, Y = np.meshgrid(range(k), range(k))\n",
    "%matplotlib tk\n",
    "#print(X,\"\\n\")\n",
    "#print(Y)"
   ]
  },
  {
   "cell_type": "code",
   "execution_count": 24,
   "metadata": {},
   "outputs": [
    {
     "data": {
      "text/plain": [
       "<mpl_toolkits.mplot3d.art3d.Poly3DCollection at 0x2bcee8d30>"
      ]
     },
     "execution_count": 24,
     "metadata": {},
     "output_type": "execute_result"
    }
   ],
   "source": [
    "# Plot the 2D image as a 3D projection\n",
    "fig = plt.figure()\n",
    "ax = fig.add_subplot(projection = '3d')\n",
    "ax = fig.gca()\n",
    "ax.plot_surface(X, Y, T, cmap=cm.hot)"
   ]
  },
  {
   "cell_type": "code",
   "execution_count": null,
   "metadata": {},
   "outputs": [],
   "source": []
  }
 ],
 "metadata": {
  "kernelspec": {
   "display_name": "Python 3 (ipykernel)",
   "language": "python",
   "name": "python3"
  },
  "language_info": {
   "codemirror_mode": {
    "name": "ipython",
    "version": 3
   },
   "file_extension": ".py",
   "mimetype": "text/x-python",
   "name": "python",
   "nbconvert_exporter": "python",
   "pygments_lexer": "ipython3",
   "version": "3.10.9"
  }
 },
 "nbformat": 4,
 "nbformat_minor": 2
}

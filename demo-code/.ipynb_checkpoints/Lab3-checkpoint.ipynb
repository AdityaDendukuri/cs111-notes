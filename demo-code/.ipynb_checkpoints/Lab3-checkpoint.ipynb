{
 "cells": [
  {
   "cell_type": "code",
   "execution_count": 150,
   "id": "4307b93f-e8e9-4f9b-bb21-dd932408bba0",
   "metadata": {},
   "outputs": [],
   "source": [
    "import numpy as np \n",
    "import scipy "
   ]
  },
  {
   "cell_type": "markdown",
   "id": "218620f7-4fb3-4082-8118-a7c0afa2a1db",
   "metadata": {},
   "source": [
    "# Lab 3: LU Factorization + Partial Pivoting \n",
    "We know that linear systems (at-least full rank matrices) of the form \n",
    "$$\n",
    "    A x = b, \n",
    "$$\n",
    "can be solved as \n",
    "$$\n",
    "    x = A^{-1}b.\n",
    "$$\n",
    "\n",
    "1. $\\mathcal{O}(n^3)$ complexity due to the matrix product.\n",
    "\n",
    "## LU Factorization\n",
    "The $LU$ decomposition (or factorization) of a matrix $A$ is defined as follows \n",
    "$$\n",
    "A = LU,\n",
    "$$\n",
    "where $L$ is an upper triangular matrix and $U$ is a lower triangular matrix. If expanded, the decomposition looks as follows (for size 4)\n",
    "$$\n",
    "\\begin{pmatrix}\n",
    "    A_{11} & A_{12} & A_{13} & A_{14} \\\\\n",
    "    A_{21} & A_{22} & A_{23} & A_{24} \\\\\n",
    "    A_{31} & A_{32} & A_{33} & A_{34} \\\\\n",
    "    A_{41} & A_{42} & A_{43} & A_{44} \\\\\n",
    "\\end{pmatrix} = \n",
    "\\begin{pmatrix}\n",
    "    1 & 0 & 0 & 0\\\\\n",
    "    L_{21} & 1 & 0 & 0 \\\\\n",
    "    L_{31} & L_{32} & 1 & 0 \\\\\n",
    "    L_{41} & L_{42} & L_{43} & 1\n",
    "\\end{pmatrix}\n",
    "\\begin{pmatrix}\n",
    "    U_{11} & U_{12} & U_{13} & U_{14} \\\\\n",
    "    0 & U_{22} & U_{23} & U_{24}\\\\\n",
    "    0 & 0 & U_{33} & U_{34} \\\\\n",
    "    0 & 0 & 0 & U_{44} \n",
    "\\end{pmatrix}\n",
    "$$\n",
    "We will revisit this later to demonstrate how this helps us to solve linear equations quicker than simply inverting.  \n",
    "\n"
   ]
  },
  {
   "cell_type": "code",
   "execution_count": 151,
   "id": "0b3e0307-1aac-4b7a-a90e-e7ab6c2e1668",
   "metadata": {},
   "outputs": [
    {
     "name": "stdout",
     "output_type": "stream",
     "text": [
      "A:\n",
      " [[0.38 0.12 0.9  0.76 0.42]\n",
      " [0.67 0.78 0.26 0.34 0.94]\n",
      " [0.73 0.24 0.2  0.57 0.16]\n",
      " [0.46 0.92 0.28 0.42 0.69]\n",
      " [0.31 0.77 0.36 0.51 0.72]]\n",
      "\n",
      "\n",
      " P:\n",
      " [[0. 0. 1. 0. 0.]\n",
      " [0. 0. 0. 1. 0.]\n",
      " [1. 0. 0. 0. 0.]\n",
      " [0. 1. 0. 0. 0.]\n",
      " [0. 0. 0. 0. 1.]] \n",
      "\n",
      " L:\n",
      " [[ 1.    0.    0.    0.    0.  ]\n",
      " [ 0.63  1.    0.    0.    0.  ]\n",
      " [ 0.52 -0.01  1.    0.    0.  ]\n",
      " [ 0.92  0.73 -0.04  1.    0.  ]\n",
      " [ 0.42  0.87  0.18 -0.64  1.  ]] \n",
      "\n",
      " U:\n",
      " [[ 0.73  0.24  0.2   0.57  0.16]\n",
      " [ 0.    0.77  0.15  0.06  0.59]\n",
      " [ 0.    0.    0.8   0.46  0.34]\n",
      " [ 0.    0.    0.   -0.21  0.38]\n",
      " [ 0.    0.    0.    0.    0.32]]\n"
     ]
    }
   ],
   "source": [
    "# Generating a random matrix for example\n",
    "A = np.random.rand(5, 5).round(2) \n",
    "n = A.shape[1]\n",
    "print(f\"A:\\n {A}\")\n",
    "\n",
    "# Scipy function for LU \n",
    "P, L, U = scipy.linalg.lu(A)\n",
    "print(f\"\\n\\n P:\\n {P} \\n\\n L:\\n {L.round(2)} \\n\\n U:\\n {U.round(2)}\")"
   ]
  },
  {
   "cell_type": "markdown",
   "id": "080e8d2c-498b-4603-8cff-b3024c1567e0",
   "metadata": {},
   "source": [
    "Now, we will now get into $LU$ decomposition algorithms, but let us introduce some tools first. One of the goals of this section is to re-do the $LU$ code you learnt in lecture using array slicing to demonstrate how powerful and intuitive the tool is. \n",
    "\n",
    "### THE LU ALGORITHM\n",
    "The algorithm works by iterating through each diagonal element (aka pivot) and converting the matrix $A$ into an upper diagonal matrix $U$ using row operations. So for each pivot, we have to come up with row operations that set all the values underneath it to zero. The steps will look something like this - \n",
    "$$\n",
    "\\begin{pmatrix}\n",
    "    A_{11} & A_{12} & A_{13} & A_{14} \\\\\n",
    "    A_{21} & A_{22} & A_{23} & A_{24} \\\\\n",
    "    A_{31} & A_{32} & A_{33} & A_{34} \\\\\n",
    "    A_{41} & A_{42} & A_{43} & A_{44} \n",
    "\\end{pmatrix} =\n",
    "\\begin{pmatrix}\n",
    "    \\color{red}B_{11} & B_{12} & B_{13} & B_{14} \\\\\n",
    "    0      & B_{22} & B_{23} & B_{24} \\\\\n",
    "    0      & B_{32} & B_{33} & B_{34} \\\\\n",
    "    0      & B_{42} & B_{43} & B_{44} \\\\\n",
    "\\end{pmatrix}\n",
    "\\longrightarrow\n",
    "\\begin{pmatrix}\n",
    "    C_{11} & C_{12} & C_{13} & C_{14} \\\\\n",
    "    0      & \\color{red}C_{22} & C_{23} & C_{24} \\\\\n",
    "    0      & 0      & C_{33} & C_{34} \\\\\n",
    "    0      & 0      & C_{43} & C_{44} \\\\\n",
    "\\end{pmatrix}\n",
    "\\longrightarrow\n",
    "\\begin{pmatrix}\n",
    "    U_{11} & U_{12} & U_{13} & U_{14} \\\\\n",
    "    0 & U_{22} & U_{23} & U_{24} \\\\\n",
    "    0 & 0 & \\color{red}U_{33} & U_{34} \\\\\n",
    "    0 & 0 & 0 & U_{44} \\\\\n",
    "\\end{pmatrix}\n",
    "$$\n",
    "Note that the entire matrix changes when we apply a set of row-operations. Hence, the different notation for the matrix in each step. Let us make up a random matrix. Keep in mind the numpy.random.rand(.) function always generates a full-rank matrix."
   ]
  },
  {
   "cell_type": "code",
   "execution_count": 152,
   "id": "364a0a69-7462-48df-a80e-89886f19078d",
   "metadata": {},
   "outputs": [],
   "source": [
    "# LU row operation step (matrix A, pivot point i)\n",
    "def LU_ROW_OP(L, U, i):\n",
    "    multipliers  =  U[i+1:, i] / U[i, i]\n",
    "    L[i+1:, i]   =  multipliers\n",
    "    U[i+1:, :]  -=  multipliers.reshape(-1, 1) * U[i, :] \n",
    "    return L, U"
   ]
  },
  {
   "cell_type": "markdown",
   "id": "5ca24568-24a8-4eb1-aa01-c182cf0ea7aa",
   "metadata": {},
   "source": [
    "# Step by step visualization of LU factorization\n",
    "\n",
    "Apply this row operation to each pivot point. Once the algorithm ends, the result will be an upper triangular matrix which will be U. "
   ]
  },
  {
   "cell_type": "code",
   "execution_count": 153,
   "id": "b94c1e9a-f934-4b9e-bca4-8a191cec80e3",
   "metadata": {},
   "outputs": [
    {
     "name": "stdout",
     "output_type": "stream",
     "text": [
      "A:\n",
      " [[0.84 0.42 0.64 0.74 0.03]\n",
      " [0.03 0.97 0.56 0.33 0.45]\n",
      " [0.6  0.96 0.05 0.11 0.91]\n",
      " [1.   0.04 0.15 0.92 0.62]\n",
      " [0.86 0.74 0.97 0.14 0.61]]\n",
      "\n",
      "Step 1, Pivot [0, 0]:\n",
      " [[ 0.84  0.42  0.64  0.74  0.03]\n",
      " [ 0.    0.96  0.54  0.3   0.45]\n",
      " [ 0.    0.66 -0.41 -0.42  0.89]\n",
      " [ 0.   -0.46 -0.61  0.04  0.58]\n",
      " [ 0.    0.31  0.31 -0.62  0.58]] \n",
      "\n",
      "\n",
      "Step 2, Pivot [1, 1]:\n",
      " [[ 0.84  0.42  0.64  0.74  0.03]\n",
      " [ 0.    0.96  0.54  0.3   0.45]\n",
      " [ 0.    0.   -0.78 -0.63  0.58]\n",
      " [ 0.    0.   -0.35  0.19  0.8 ]\n",
      " [ 0.    0.    0.14 -0.72  0.43]] \n",
      "\n",
      "\n",
      "Step 3, Pivot [2, 2]:\n",
      " [[ 0.84  0.42  0.64  0.74  0.03]\n",
      " [ 0.    0.96  0.54  0.3   0.45]\n",
      " [ 0.    0.   -0.78 -0.63  0.58]\n",
      " [ 0.    0.    0.    0.47  0.54]\n",
      " [ 0.    0.    0.   -0.83  0.54]] \n",
      "\n",
      "\n",
      "Step 4, Pivot [3, 3]:\n",
      " [[ 0.84  0.42  0.64  0.74  0.03]\n",
      " [ 0.    0.96  0.54  0.3   0.45]\n",
      " [ 0.    0.   -0.78 -0.63  0.58]\n",
      " [ 0.    0.    0.    0.47  0.54]\n",
      " [ 0.    0.    0.    0.    1.49]] \n",
      "\n",
      "\n",
      "Step 5, Pivot [4, 4]:\n",
      " [[ 0.84  0.42  0.64  0.74  0.03]\n",
      " [ 0.    0.96  0.54  0.3   0.45]\n",
      " [ 0.    0.   -0.78 -0.63  0.58]\n",
      " [ 0.    0.    0.    0.47  0.54]\n",
      " [ 0.    0.    0.    0.    1.49]] \n",
      "\n"
     ]
    }
   ],
   "source": [
    "A = np.random.rand(5, 5).round(2) # rounding to two digits for simplicity\n",
    "n = A.shape[1]\n",
    "print(f\"A:\\n {A}\")\n",
    "\n",
    "U = A.copy()  \n",
    "L = np.eye(5)\n",
    "\n",
    "# iterate trough each diagonal point (pivot) and apply the LU step\n",
    "for i in range(n):\n",
    "    L, U = LU_ROW_OP(L, U, i)\n",
    "    print(f\"\\nStep {i+1}, Pivot [{i}, {i}]:\\n {U.round(2)} \\n\")"
   ]
  },
  {
   "cell_type": "markdown",
   "id": "9325d2d8-d877-47b0-9956-d663f5321706",
   "metadata": {},
   "source": [
    "Next, we will implement this as a function to do some tests. "
   ]
  },
  {
   "cell_type": "markdown",
   "id": "4ccd4222-2d8f-47c7-b853-8a67c94ca3b0",
   "metadata": {},
   "source": [
    "# Basic LU Algorithm"
   ]
  },
  {
   "cell_type": "code",
   "execution_count": 154,
   "id": "4a2dee6b-098d-4abb-b4ff-3f415eda2983",
   "metadata": {},
   "outputs": [],
   "source": [
    "# LU with no pivoting \n",
    "def basic_lu(A):\n",
    "\n",
    "    # define L and U matrices \n",
    "    n = A.shape[0]\n",
    "    L = np.eye(n)\n",
    "    U = A.copy() \n",
    "    \n",
    "    # iterating through each diagonal element \n",
    "    for i in range(n): # O(n)\n",
    "        L, U = LU_ROW_OP(L, U, i) #O( (n-1)*n )\n",
    "        \n",
    "    return L, U \n",
    "    \n",
    "# Total complexity = O(n * (n^2 - n)) = O(n^3 - n^2) = O(n^3)"
   ]
  },
  {
   "cell_type": "code",
   "execution_count": 155,
   "id": "d2f407d1-3407-41db-a32f-a036755e26c8",
   "metadata": {},
   "outputs": [
    {
     "name": "stdout",
     "output_type": "stream",
     "text": [
      "\n",
      " reconstruction error (||A - LU||_2): 2.420669712248692e-16\n"
     ]
    }
   ],
   "source": [
    "L, U = basic_lu(A)\n",
    "\n",
    "# check solution PA = LU (in this case, since there is no pivoting P = Identity matrix)\n",
    "LU = L @ U\n",
    "\n",
    "# L2 norm to compare A and L@U. \n",
    "err = np.linalg.norm(abs(A-LU)) \n",
    "\n",
    "#print(f\"A:\\n {A.round(2)} \\n\\n L:\\n {L.round(2)} \\n\\n U:\\n {U.round(2)} \\n\\n L@U: \\n{L@U} \\n\\n\")\n",
    "print(f\"\\n reconstruction error (||A - LU||_2): {err}\")"
   ]
  },
  {
   "cell_type": "markdown",
   "id": "737de7ca-92c1-4a2f-a636-9ef7e52a5a2d",
   "metadata": {},
   "source": [
    "# Basic LU (no pivoting) can fail in some cases\n",
    "\n",
    "We will test our basic LU algorithm on three matrices \n",
    "1. A1 : The first pivot is zero\n",
    "   - Setting the first pivot A[0, 0] leads to zero division when computing the multiplier. \n",
    "2. A2 : The first pivot is extremly small\n",
    "   - Due to floating point innacuracies, extremely small pivot values can cause zero divisions. \n",
    "3. A3 : Singular matrix (randomly generated)\n",
    "   - Why does a singular matrix fail LU? \n",
    "   \n",
    "You will see that the basic LU algorithm will fail in these three cases. "
   ]
  },
  {
   "cell_type": "code",
   "execution_count": 156,
   "id": "d510b2f6-f176-407f-b315-8fa98107c332",
   "metadata": {},
   "outputs": [
    {
     "name": "stdout",
     "output_type": "stream",
     "text": [
      "\n",
      " *** If you're reading this message, The L, U matrices that we computed for the three matrices have infinite values (LU algorithm failed) *** \n",
      "\n"
     ]
    },
    {
     "name": "stderr",
     "output_type": "stream",
     "text": [
      "/var/folders/c7/56zb_b0d5ljcc_czr527c01w0000gn/T/ipykernel_82156/3648752636.py:3: RuntimeWarning: divide by zero encountered in divide\n",
      "  multipliers  =  U[i+1:, i] / U[i, i]\n",
      "/var/folders/c7/56zb_b0d5ljcc_czr527c01w0000gn/T/ipykernel_82156/3648752636.py:5: RuntimeWarning: invalid value encountered in multiply\n",
      "  U[i+1:, :]  -=  multipliers.reshape(-1, 1) * U[i, :]\n",
      "/var/folders/c7/56zb_b0d5ljcc_czr527c01w0000gn/T/ipykernel_82156/3648752636.py:3: RuntimeWarning: invalid value encountered in divide\n",
      "  multipliers  =  U[i+1:, i] / U[i, i]\n"
     ]
    }
   ],
   "source": [
    "A1 = A.copy()\n",
    "A2 = A.copy()\n",
    "n  = A.shape[1]\n",
    "\n",
    "# three cases where basic LU will fail\n",
    "A1[0, 0] = 0                                      # Case1: The first pivot value is zero \n",
    "A2[0, 0] = 6.6e-40                                # Case2: The first pivot value is miniscule (eg. Planck's constant)\n",
    "A3 = np.random.rand(n, 1) @ np.random.rand(1, n)  # Case3: singular matrix (That's right! the outer product of two vectors is a singular matrix.)\n",
    "\n",
    "# compute the basic LU of the three cases \n",
    "L1, U1 = basic_lu(A1)\n",
    "L2, U2 = basic_lu(A2)\n",
    "L3, U3 = basic_lu(A3) \n",
    "\n",
    "# assert will terminate program if false\n",
    "test1 = (np.isnan(L1) & np.isnan(U1)).any()        # check if there are any infinite values in L1 and U1\n",
    "test2 = (np.isnan(L2) & np.isnan(U2)).any()        # same test with L2 and U2\n",
    "test3 = (np.isnan(L3) & np.isnan(U3)).any()        # same test with L3 and U3 \n",
    "\n",
    "print(\"\\n *** If you're reading this message, The L, U matrices that we computed for the three matrices have infinite values (LU algorithm failed) *** \\n\")"
   ]
  },
  {
   "cell_type": "markdown",
   "id": "9e2b4f9a-15e5-4fa5-b2e7-6efc1497413c",
   "metadata": {},
   "source": [
    "# Partial pivoting. If zero pivot encountered, simply swap it with with a different row.\n",
    ". \n",
    "There are various methods to determine which row to swap with."
   ]
  },
  {
   "cell_type": "code",
   "execution_count": 157,
   "id": "d176ac8e-4a80-475e-afaa-edae2c778bfc",
   "metadata": {},
   "outputs": [],
   "source": [
    "# simple one line code to swap two rows, 'row1' and 'row2' of a matrix A\n",
    "def swap_rows(A, row1, row2):\n",
    "    A[[row1, row2], :] = A[[row2, row1], :]\n",
    "    return A"
   ]
  },
  {
   "cell_type": "markdown",
   "id": "670a4495-d92b-4316-aa4e-ef8218c9f800",
   "metadata": {},
   "source": [
    "# LU Factorization with Partial Pivoting (only swap rows)"
   ]
  },
  {
   "cell_type": "code",
   "execution_count": 158,
   "id": "b01f6a17-a4b5-4f2a-b7c3-11b00551a3c9",
   "metadata": {},
   "outputs": [],
   "source": [
    "# loop until you find the next non zero pivot (or if array ends)\n",
    "def partial_pivot_simple(P, U, i):\n",
    "    n_possibilities = U.shape[1] - i \n",
    "    while np.isclose(U[i, i], 0.0) and i < n_possibilities:\n",
    "        P = swap_rows(P, i, i+1)           \n",
    "        U = swap_rows(U, i, i+1)\n",
    "        i = i + 1\n",
    "    return P, U\n",
    "\n",
    "\n",
    "\n",
    "# Use argmax to find the next largest value. \n",
    "def partial_pivot_argmax(P, U, i):\n",
    "    # look at the column values below the pivot and find the largest\n",
    "    piv_vals         = np.diag(U[i:, i:])\n",
    "    piv_with_max_val = i + np.argmax(piv_vals)\n",
    "    # swap rows with the \n",
    "    P = swap_rows(P, i, piv_with_max_val)           \n",
    "    U = swap_rows(U, i, piv_with_max_val)\n",
    "    return P, U"
   ]
  },
  {
   "cell_type": "code",
   "execution_count": 159,
   "id": "516c6b40-8e11-4715-b216-ec044e80c7a5",
   "metadata": {},
   "outputs": [],
   "source": [
    "def partial_pivot_lu(A):\n",
    "    n = A.shape[1]\n",
    "    P, L = np.eye(n), np.eye(n)\n",
    "    U = A.copy()\n",
    "\n",
    "    # iterating through each pivot (diagonal point for each row)\n",
    "    for i in range(n):   \n",
    "\n",
    "        # if zero diagonal encountered, use of the partial pivoting functions\n",
    "        if np.isclose(U[i, i], 0.0):\n",
    "            P, U = partial_pivot_argmax(P, U, i)\n",
    "            # P, U = partial_pivot_simple(P, U, i)\n",
    "        \n",
    "        # continue with the normal LU step \n",
    "        L, U = LU_ROW_OP(L, U, i)\n",
    "        \n",
    "    return P, L, U"
   ]
  },
  {
   "cell_type": "code",
   "execution_count": 160,
   "id": "9bd2c9ba-13b9-46c9-a108-00a6c3d5b201",
   "metadata": {},
   "outputs": [
    {
     "name": "stdout",
     "output_type": "stream",
     "text": [
      "\n",
      " Reconstruction error for A1 and A2 is 6.812796007220768e-15 and 6.812796007220768e-15 respectively \n",
      "\n",
      " \n",
      " If you're seeing this message then the code failed for A3, as expected, since it is a singular matrix. The bottom line is that there are no solutions for singular matrices\n",
      "\n"
     ]
    },
    {
     "name": "stderr",
     "output_type": "stream",
     "text": [
      "/var/folders/c7/56zb_b0d5ljcc_czr527c01w0000gn/T/ipykernel_82156/3648752636.py:3: RuntimeWarning: invalid value encountered in divide\n",
      "  multipliers  =  U[i+1:, i] / U[i, i]\n"
     ]
    }
   ],
   "source": [
    "# we will return to the three special cases we discussed above\n",
    "P1, L1, U1 = partial_pivot_lu(A1) # A1[0, 0] = 0\n",
    "P2, L2, U2 = partial_pivot_lu(A2) # A2[0, 0] = plancks constant (~6e-30, very close to zero)\n",
    "P3, L3, U3 = partial_pivot_lu(A3) # singular matrix. This will still fail. Why?\n",
    "\n",
    "err1 = np.linalg.norm( abs(P1@A1 - L1@U1) ) \n",
    "err2 = np.linalg.norm( abs(P2@A2 - L2@U2) ) \n",
    "print(f\"\\n Reconstruction error for A1 and A2 is {err1} and {err2} respectively \\n\")\n",
    "\n",
    "assert (np.isnan(L3) & np.isnan(U3)).any()\n",
    "print(f\" \\n If you're seeing this message then the code failed for A3, as expected, since it is a singular matrix. The bottom line is that there are no solutions for singular matrices\\n\")\n"
   ]
  },
  {
   "cell_type": "markdown",
   "id": "20de649a-a61a-42d0-ad1a-01a0201f9829",
   "metadata": {},
   "source": [
    "# Forward/Backward Substitution\n",
    "\n",
    "Now that we have code for decomposing a matrix $A$ into the $LU$ form, we can use it to solve system of linear equations"
   ]
  },
  {
   "cell_type": "code",
   "execution_count": 174,
   "id": "bb4b860b-195a-49db-8c87-c7cade756fda",
   "metadata": {},
   "outputs": [],
   "source": [
    "def forward_subst(L, b):\n",
    "    n = L.shape[0]\n",
    "    sol = np.zeros(n);\n",
    "    sol[0] = b[0] / L[0, 0]\n",
    "    \n",
    "    for i in range(1, n): # O(n)\n",
    "        sol[i] = (b[i] - L[i,:i]@sol[:i]) / L[i,i] # dot product (O(n))\n",
    "\n",
    "    return sol"
   ]
  },
  {
   "cell_type": "code",
   "execution_count": 175,
   "id": "c15cedc2-a853-4376-8331-0e3f27fa541c",
   "metadata": {},
   "outputs": [],
   "source": [
    "def backward_subst(L, b):\n",
    "    n = L.shape[0]\n",
    "    sol = np.zeros(n);\n",
    "    sol[0] = b[0] / L[0, 0]\n",
    "    \n",
    "    for i in range(1, n): # O(n)\n",
    "        sol[i] = (b[i] - L[i,i:]@sol[i:]) / L[i,i] # dot product (O(n))\n",
    "\n",
    "    return sol"
   ]
  },
  {
   "cell_type": "code",
   "execution_count": 176,
   "id": "f4cc0b87-7469-4d1e-9ef5-90f0326a6add",
   "metadata": {},
   "outputs": [
    {
     "name": "stdout",
     "output_type": "stream",
     "text": [
      "A:\n",
      " [[0.84 0.42 0.64 0.74 0.03]\n",
      " [0.03 0.97 0.56 0.33 0.45]\n",
      " [0.6  0.96 0.05 0.11 0.91]\n",
      " [1.   0.04 0.15 0.92 0.62]\n",
      " [0.86 0.74 0.97 0.14 0.61]] \n",
      "\n",
      " b:\n",
      " [0.06 0.2  0.79 0.64 1.35] \n",
      "\n",
      " sol:\n",
      " [ 0.07  0.21 -1.01  1.36  0.91]\n"
     ]
    }
   ],
   "source": [
    "print(f\"A:\\n {A.round(2)} \\n\\n b:\\n {b.round(2)} \\n\\n sol:\\n {sol.round(2)}\")"
   ]
  },
  {
   "cell_type": "code",
   "execution_count": 171,
   "id": "4c28a0db-efb9-4364-9b98-2dce0880b91b",
   "metadata": {},
   "outputs": [],
   "source": [
    "# lets make up a random lower-triangular matrix (and random linear systems problem)\n",
    "P, L, U = partial_pivot_lu(A)\n",
    "sol = forward_subst(L, b)\n",
    "sol = backward_subst(U, sol)"
   ]
  },
  {
   "cell_type": "code",
   "execution_count": 181,
   "id": "2d204ac7-4ad8-4d70-b82d-a6dca12c4cf8",
   "metadata": {},
   "outputs": [
    {
     "ename": "AssertionError",
     "evalue": "Numpy and comuted soln not same!",
     "output_type": "error",
     "traceback": [
      "\u001b[0;31m---------------------------------------------------------------------------\u001b[0m",
      "\u001b[0;31mAssertionError\u001b[0m                            Traceback (most recent call last)",
      "Cell \u001b[0;32mIn[181], line 2\u001b[0m\n\u001b[1;32m      1\u001b[0m numpy_soln \u001b[38;5;241m=\u001b[39m np\u001b[38;5;241m.\u001b[39mlinalg\u001b[38;5;241m.\u001b[39msolve(A, b)\n\u001b[0;32m----> 2\u001b[0m \u001b[38;5;28;01massert\u001b[39;00m np\u001b[38;5;241m.\u001b[39misclose(sol, numpy_soln)\u001b[38;5;241m.\u001b[39mall(), \u001b[38;5;124m\"\u001b[39m\u001b[38;5;124mNumpy and comuted soln not same!\u001b[39m\u001b[38;5;124m\"\u001b[39m\n",
      "\u001b[0;31mAssertionError\u001b[0m: Numpy and comuted soln not same!"
     ]
    }
   ],
   "source": [
    "numpy_soln = np.linalg.solve(A, b)\n",
    "assert np.isclose(sol, numpy_soln).all(), \"Numpy and comuted soln not same!\""
   ]
  },
  {
   "cell_type": "code",
   "execution_count": 169,
   "id": "e8bdc26b-3b2e-4b52-bae8-95c8a930c117",
   "metadata": {},
   "outputs": [
    {
     "data": {
      "text/plain": [
       "array([[1., 0., 0., 0., 0.],\n",
       "       [0., 1., 0., 0., 0.],\n",
       "       [0., 0., 1., 0., 0.],\n",
       "       [0., 0., 0., 1., 0.],\n",
       "       [0., 0., 0., 0., 1.]])"
      ]
     },
     "execution_count": 169,
     "metadata": {},
     "output_type": "execute_result"
    }
   ],
   "source": [
    "P"
   ]
  },
  {
   "cell_type": "code",
   "execution_count": null,
   "id": "1723c642-e58d-47ed-b674-bb249bf1b240",
   "metadata": {},
   "outputs": [],
   "source": []
  }
 ],
 "metadata": {
  "kernelspec": {
   "display_name": "Python 3 (ipykernel)",
   "language": "python",
   "name": "python3"
  },
  "language_info": {
   "codemirror_mode": {
    "name": "ipython",
    "version": 3
   },
   "file_extension": ".py",
   "mimetype": "text/x-python",
   "name": "python",
   "nbconvert_exporter": "python",
   "pygments_lexer": "ipython3",
   "version": "3.9.18"
  }
 },
 "nbformat": 4,
 "nbformat_minor": 5
}

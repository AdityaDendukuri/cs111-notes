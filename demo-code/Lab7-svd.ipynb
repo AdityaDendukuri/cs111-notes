{
 "cells": [
  {
   "cell_type": "code",
   "execution_count": 1,
   "id": "6bec4af2-85cf-4fe1-b9f7-9b796954113b",
   "metadata": {},
   "outputs": [],
   "source": [
    "import numpy as np\n",
    "import matplotlib.pyplot as plt"
   ]
  },
  {
   "cell_type": "markdown",
   "id": "18e40349-99bb-44ab-9e01-4f56d1c11e78",
   "metadata": {},
   "source": [
    "# Lab 7: Rank and Singular Value Decomposition\n",
    "\n",
    "We have previously encountered the notion of **singular** matrices. For a singular matrix $A$, we've learned that:\n",
    "\n",
    "1. $A^{-1}$ does not exist.\n",
    "2. The equation $Ax = b$ does not have a unique solution.\n",
    "3. The condition number $\\text{cond}(A)$ is infinite.\n",
    "4. The determinant $\\text{det}(A)$ equals $0$.\n",
    "\n",
    "**Singular Value Decomposition** (SVD) provides a comprehensive framework that ties these concepts together. Before delving into SVD, let's recap the concepts of **rank** and <b>outer product</b>.\n",
    "\n",
    "### Rank\n",
    "\n",
    "The **rank** of a matrix $A$ has several definitions, but for our purposes, we'll adopt the following:\n",
    "\n",
    "> The **rank** of a matrix $A$ is the number of linearly independent rows (or columns) it possesses.\n",
    "\n",
    "**Example** - Consider the matrix with three rows $r_1$, $r_2$, and $r_3$ (dashed lines represent the rest of the row):\n",
    "$$\n",
    "A = \\begin{bmatrix} -- & r_1 & -- \\\\ \n",
    "                    -- & r_2 & -- \\\\\n",
    "                    -- & r_3 & -- \\end{bmatrix} =\n",
    "    \\begin{bmatrix} 1 & 1 & 0 \\\\ \n",
    "                    0 & 0 & 1 \\\\\n",
    "                    2 & 2 & 0 \\end{bmatrix}.\n",
    "$$\n",
    "1. We observe two linearly independent rows ($r_1$ and $r_2$). Thus, $\\text{rank}(A) = 2$.\n",
    "2. $r_3$ is not linearly independent, as it can be expressed as a linear combination of $r_1$ and $r_2$ (specifically, $r_3 = 2*r_1 + 0*r_2$)."
   ]
  },
  {
   "cell_type": "code",
   "execution_count": 2,
   "id": "5f6d9f0e-fa15-4664-8188-b24c1f1d3565",
   "metadata": {},
   "outputs": [
    {
     "data": {
      "text/plain": [
       "2"
      ]
     },
     "execution_count": 2,
     "metadata": {},
     "output_type": "execute_result"
    }
   ],
   "source": [
    "A = np.array( [[1, 1, 0],\n",
    "               [0, 0, 1],\n",
    "               [2, 2, 0]] )\n",
    "np.linalg.matrix_rank(A)"
   ]
  },
  {
   "cell_type": "markdown",
   "id": "5b5cee79-68bd-4b40-a7de-30bb69d77555",
   "metadata": {},
   "source": [
    "### Outer Product\n",
    "For a given row vectors $u$ and $v$ of shape $(m, 1)$. \n",
    ">1. Outer product: $u v^{T}: (m, 1)\\cdot(1, m) = (m, m)$ dimensional matrix. \n",
    ">2. Inner product: $u^{T} v: (1, m)\\cdot(m, 1) = 1$ dimensional scalar. Also called dot product."
   ]
  },
  {
   "cell_type": "code",
   "execution_count": 3,
   "id": "88acd72b-904f-47df-a59f-e1844acccfac",
   "metadata": {},
   "outputs": [],
   "source": [
    "a = np.random.rand(5, 1)\n",
    "b = np.random.rand(5, 1)\n",
    "outer_prod = a @ b.T\n",
    "inner_prod = b.T @ a \n",
    "\n",
    "#Note: if a is a 1D ndarray, then you have to use np.outer as you as you cannot transpose \n",
    "a     = np.random.rand(5)\n",
    "b     = np.random.rand(5)\n",
    "outer = np.outer(a, b)\n",
    "outer = np.inner(a, b)"
   ]
  },
  {
   "cell_type": "markdown",
   "id": "8f635248-b6d4-49ef-b643-00ca1dff0afb",
   "metadata": {},
   "source": [
    "### Singular Value Decomposition (SVD)\n",
    "\n",
    "The Singular Value Decomposition (SVD) is a mathematical technique that breaks down a matrix \\( A \\) into three component matrices, each providing valuable insights into the original matrix's structure and characteristics.\n",
    "\n",
    ">$$ A = U \\Sigma V^T $$\n",
    ">\n",
    ">1. $U$ is an $m \\times m$ orthogonal matrix.\n",
    ">2. $\\Sigma$ is an $m \\times n$ diagonal matrix containing the singular values ($\\sigma_1 > \\sigma_2 > \\dots > \\sigma_n \\geq 0$).\n",
    ">3. $V$ is an $n \\times n$ orthogonal matrix."
   ]
  },
  {
   "cell_type": "code",
   "execution_count": 4,
   "id": "46bc3519-fb2d-4754-acf7-3af76d6d45b2",
   "metadata": {},
   "outputs": [],
   "source": [
    "# Generate a random full rank matrix \n",
    "A = np.random.rand(10, 10)\n",
    "m, n = A.shape\n",
    "\n",
    "# compute SVD of A\n",
    "U, S, V = np.linalg.svd(A)\n",
    "\n",
    "# reconstruct A\n",
    "A_ = U @ np.diag(S) @ V\n",
    "\n",
    "#verify properties \n",
    "assert np.isclose(A, A_).all() \n",
    "assert np.isclose(U@np.linalg.inv(U), np.eye(m)).all()\n",
    "assert np.isclose(np.linalg.inv(V)@V, np.eye(n)).all()"
   ]
  },
  {
   "cell_type": "markdown",
   "id": "9d105b1b-834a-41a4-b99d-17eb0e34d784",
   "metadata": {},
   "source": [
    "\n",
    "**Geometrical Interpretation of SVD:**\n",
    "\n",
    "In geometric terms, matrix $A$ <i>rotates</i> and <i>scales</i> the vector $b$ in space.\n",
    "\n",
    "1. The singular vectors in matrices $U$ and $V$ represent **rotational** operations on the vector $b$.\n",
    "2. The corresponding singular values $\\sigma_i$ represent **scaling** operations on the vector $b$.\n",
    "\n",
    "**Relating Condition Number to SVD:**\n",
    "\n",
    "Since the singular values represent the action of $scaling$ by the matrix $A$, we can compute the condition as follows- \n",
    "$$\n",
    "\\kappa(A) = \\frac{\\text{max scaling}}{\\text{min scaling}}=\\frac{\\max \\frac{||Ax||}{||x||}}{\\min \\frac{||Ax||}{||x||}}=\\frac{\\sigma_1}{\\sigma_n}.  (\\text{Since $\\sigma_1 > \\sigma_2 \\cdots \\sigma_n \\geq0$})\n",
    "$$\n",
    ">*Note:* If the matrix is singular, then $\\sigma_n = 0$, which  implies $\\kappa(A)=\\frac{\\sigma_1}{\\sigma_n}=\\infty$."
   ]
  },
  {
   "cell_type": "code",
   "execution_count": 5,
   "id": "88657b37-b016-4b56-bb27-f1dfe25d2a63",
   "metadata": {},
   "outputs": [],
   "source": [
    "A = np.random.rand(10, 10)\n",
    "U, S, V = np.linalg.svd(A) \n",
    "\n",
    "cond_num_numpy = np.linalg.cond(A) \n",
    "cond_num_svd   = max(S)/min(S)\n",
    "\n",
    "assert np.isclose(cond_num_svd, cond_num_numpy)"
   ]
  },
  {
   "cell_type": "markdown",
   "id": "37b02fa1-5973-40bd-bc11-6e620c5f94c8",
   "metadata": {},
   "source": [
    "**Relating SVD to Frobenius norm**\n",
    "\n",
    "The Frobenius norm of a matrix is defind as -\n",
    "\n",
    "$$\n",
    "\\|A\\|_F = \\sqrt{\\sum_{i=1}^{m} \\sum_{j=1}^{n} |a_{ij}|^2}\n",
    "$$\n",
    "\n",
    "\n",
    "If we plug in in the SVD decomposition and simplify we get\n",
    "\n",
    "\n",
    "$$\n",
    "\\|A\\|_F = \\sqrt{\\sum_{i=1}^{r} \\sigma_i^2}\n",
    "$$\n",
    "\n",
    "Side note: Similar to vectors, we can compute a <i>residual</i> matrix to compare two matrices (say $A$ and $A'$) and compute the Frobenius norm as \n",
    "\n",
    "$$\n",
    "||R||_F = \\|A - A'\\|_F.\n",
    "$$\n",
    "\n",
    "---"
   ]
  },
  {
   "cell_type": "markdown",
   "id": "efc6b3a3-c901-44bc-8465-faca473f94b0",
   "metadata": {},
   "source": [
    "## Rank Reduction using Singular Value Decomposition (SVD)\n",
    "\n",
    "The Singular Value Decomposition (SVD) breaks down a matrix $A$ into three components: the left singular vectors ($U$), the singular values ($\\Sigma$), and the right singular vectors ($V^\\text{T}$). These components are arranged as follows:\n",
    "\n",
    "$$\n",
    "A = U \\Sigma V^\\text{T} = \n",
    "\\begin{bmatrix}\n",
    "| & & | & |& & | \\\\\n",
    "| & & | & |& & | \\\\\n",
    "| & & | & |& & | \\\\\n",
    "u_{1} & \\dots & u_{r} & u_{r+1} & \\dots & u_{m} \\\\\n",
    "| & & | & |& & | \\\\\n",
    "| & & | & |& & | \\\\\n",
    "| & & | & |& & | \\\\\n",
    "\\end{bmatrix}\n",
    "\\begin{bmatrix}\n",
    "\\sigma_{1} & & & & & \\\\\n",
    "& \\ddots & & & & \\\\\n",
    "& & \\sigma_{r} & & & \\\\\n",
    "& & & 0 & & \\\\\n",
    "& & & & \\ddots & \\\\\n",
    "& & & & & 0 \\\\\n",
    "\\end{bmatrix}\n",
    "\\begin{bmatrix}\n",
    "\\textemdash & \\textemdash & v_{1}^{\\text{T}} & \\textemdash & \\textemdash \\\\\n",
    "& & \\vdots & & \\\\\n",
    "\\textemdash & \\textemdash & v_{r}^{\\text{T}} & \\textemdash & \\textemdash \\\\\n",
    "\\textemdash & \\textemdash & v_{r+1}^{\\text{T}} & \\textemdash & \\textemdash \\\\\n",
    "& & \\vdots & & \\\\\n",
    "\\textemdash & \\textemdash & v_{n}^{\\text{T}} & \\textemdash & \\textemdash \\\\\n",
    "\\end{bmatrix}\n",
    "$$\n",
    "\n",
    "Here:\n",
    "1. $r$ is the rank of the matrix $A$.\n",
    "2. For non-singular square matrices, $\\Sigma$ has non-zero singular values.\n",
    "3. For singular or non-square matrices, $\\Sigma$ has $r$ non-zero singular values along the main diagonal.\n",
    "\n",
    "By simplifying the matrix product, $A$ we get:\n",
    "\n",
    "$$ A = \\sum_{i=1}^{r} \\sigma_i u_i v_i^{\\text{T}} $$\n",
    "\n",
    "If we truncate this sum to include only the first $m$ terms, the resulting matrix $A'$ has a rank of $m$, reducing the complexity of $A$:\n",
    "\n",
    "$$ A' = \\sum_{i=1}^{m} \\sigma_i u_i v_i^{\\text{T}} $$\n",
    "\n",
    "By selecting $m < \\text{rank}(A)$, we retain the most significant components of $A$, effectively reducing its rank and complexity. This process is known as rank reduction using SVD."
   ]
  },
  {
   "cell_type": "code",
   "execution_count": 6,
   "id": "29bbab52-3e8d-4a28-aa43-5797c338d439",
   "metadata": {},
   "outputs": [
    {
     "name": "stdout",
     "output_type": "stream",
     "text": [
      "L2 error for rank 6 reduction: 0.012853178678765134\n"
     ]
    }
   ],
   "source": [
    "# Rank reduction (change r value to reduce it to a rank you want) using the loop summation\n",
    "A_approx = np.zeros(shape=A.shape)\n",
    "r = 9\n",
    "for i in range(r):\n",
    "    A_approx += S[i] * np.outer(U[:, i], V[i, :])\n",
    "    \n",
    "print(f\"L2 error for rank 6 reduction: {np.linalg.norm(A-A_approx)}\")"
   ]
  },
  {
   "cell_type": "markdown",
   "id": "a23cd798-465a-4ae6-a89e-bfd21e881309",
   "metadata": {},
   "source": [
    "> **Note:** We can also represent the truncation in the matrix product form using array slicing, \n",
    "\n",
    "$$ A' = U[:, :r] \\, \\Sigma[:r, :r] \\, V^{T}[:r, :] $$"
   ]
  },
  {
   "cell_type": "code",
   "execution_count": 7,
   "id": "16147b82-bda2-44cf-b859-e5e4e5c456d8",
   "metadata": {},
   "outputs": [
    {
     "name": "stdout",
     "output_type": "stream",
     "text": [
      "L2 error for rank 6 reduction: 0.012853178678765299\n"
     ]
    }
   ],
   "source": [
    "# You can also do the above summation operation using slicing (we will be using this to do the next experiment for brevity)\n",
    "A_approx = U[:, :r] @ np.diag(S[:r]) @ V[:r, :]\n",
    "\n",
    "print(f\"L2 error for rank 6 reduction: {np.linalg.norm(A-A_approx)}\")"
   ]
  },
  {
   "cell_type": "markdown",
   "id": "c3adc46d-33fa-4398-b4bd-126fe34c83ea",
   "metadata": {},
   "source": [
    "## Rank Reduction Example: Low rank approximations of images\n",
    "\n",
    "An image is represented as a 3D matrix, with each element denoting a pixel's RGB color intensity (ranging from 0 to 255). To set a pixel's intensity, we use the notation: $$X[i, j, :] = [r, g, b]$$\n",
    "\n",
    "In this demonstration, images are converted to grayscale, resulting in a 2D matrix where each element represents the average of the RGB values: $$X_{\\text{grey}}[i, j] = \\frac{r + g + b}{3}$$"
   ]
  },
  {
   "cell_type": "code",
   "execution_count": 8,
   "id": "b19f9cdf-4904-434b-a66b-937442651717",
   "metadata": {},
   "outputs": [
    {
     "ename": "FileNotFoundError",
     "evalue": "[Errno 2] No such file or directory: 'henley.jpg'",
     "output_type": "error",
     "traceback": [
      "\u001b[0;31m---------------------------------------------------------------------------\u001b[0m",
      "\u001b[0;31mFileNotFoundError\u001b[0m                         Traceback (most recent call last)",
      "Cell \u001b[0;32mIn[8], line 1\u001b[0m\n\u001b[0;32m----> 1\u001b[0m X \u001b[38;5;241m=\u001b[39m \u001b[43mplt\u001b[49m\u001b[38;5;241;43m.\u001b[39;49m\u001b[43mimread\u001b[49m\u001b[43m(\u001b[49m\u001b[38;5;124;43m\"\u001b[39;49m\u001b[38;5;124;43mhenley.jpg\u001b[39;49m\u001b[38;5;124;43m\"\u001b[39;49m\u001b[43m)\u001b[49m\u001b[38;5;241m.\u001b[39mconvert(\u001b[38;5;124m'\u001b[39m\u001b[38;5;124mL\u001b[39m\u001b[38;5;124m'\u001b[39m)\n\u001b[1;32m      2\u001b[0m X \u001b[38;5;241m=\u001b[39m X\u001b[38;5;241m.\u001b[39mmean(axis\u001b[38;5;241m=\u001b[39m\u001b[38;5;241m2\u001b[39m) \u001b[38;5;66;03m# take the mean of the rgb intensities (the third dimension)\u001b[39;00m\n\u001b[1;32m      3\u001b[0m \u001b[38;5;66;03m#X = 0.299*X[:, :, 0] + 0.587*X[:, :, 1] + 0.114*X[:, :, 2]\u001b[39;00m\n",
      "File \u001b[0;32m~/opt/anaconda3/envs/py39/lib/python3.9/site-packages/matplotlib/pyplot.py:2389\u001b[0m, in \u001b[0;36mimread\u001b[0;34m(fname, format)\u001b[0m\n\u001b[1;32m   2385\u001b[0m \u001b[38;5;129m@_copy_docstring_and_deprecators\u001b[39m(matplotlib\u001b[38;5;241m.\u001b[39mimage\u001b[38;5;241m.\u001b[39mimread)\n\u001b[1;32m   2386\u001b[0m \u001b[38;5;28;01mdef\u001b[39;00m \u001b[38;5;21mimread\u001b[39m(\n\u001b[1;32m   2387\u001b[0m         fname: \u001b[38;5;28mstr\u001b[39m \u001b[38;5;241m|\u001b[39m pathlib\u001b[38;5;241m.\u001b[39mPath \u001b[38;5;241m|\u001b[39m BinaryIO, \u001b[38;5;28mformat\u001b[39m: \u001b[38;5;28mstr\u001b[39m \u001b[38;5;241m|\u001b[39m \u001b[38;5;28;01mNone\u001b[39;00m \u001b[38;5;241m=\u001b[39m \u001b[38;5;28;01mNone\u001b[39;00m\n\u001b[1;32m   2388\u001b[0m ) \u001b[38;5;241m-\u001b[39m\u001b[38;5;241m>\u001b[39m np\u001b[38;5;241m.\u001b[39mndarray:\n\u001b[0;32m-> 2389\u001b[0m     \u001b[38;5;28;01mreturn\u001b[39;00m \u001b[43mmatplotlib\u001b[49m\u001b[38;5;241;43m.\u001b[39;49m\u001b[43mimage\u001b[49m\u001b[38;5;241;43m.\u001b[39;49m\u001b[43mimread\u001b[49m\u001b[43m(\u001b[49m\u001b[43mfname\u001b[49m\u001b[43m,\u001b[49m\u001b[43m \u001b[49m\u001b[38;5;28;43mformat\u001b[39;49m\u001b[43m)\u001b[49m\n",
      "File \u001b[0;32m~/opt/anaconda3/envs/py39/lib/python3.9/site-packages/matplotlib/image.py:1525\u001b[0m, in \u001b[0;36mimread\u001b[0;34m(fname, format)\u001b[0m\n\u001b[1;32m   1518\u001b[0m \u001b[38;5;28;01mif\u001b[39;00m \u001b[38;5;28misinstance\u001b[39m(fname, \u001b[38;5;28mstr\u001b[39m) \u001b[38;5;129;01mand\u001b[39;00m \u001b[38;5;28mlen\u001b[39m(parse\u001b[38;5;241m.\u001b[39murlparse(fname)\u001b[38;5;241m.\u001b[39mscheme) \u001b[38;5;241m>\u001b[39m \u001b[38;5;241m1\u001b[39m:\n\u001b[1;32m   1519\u001b[0m     \u001b[38;5;66;03m# Pillow doesn't handle URLs directly.\u001b[39;00m\n\u001b[1;32m   1520\u001b[0m     \u001b[38;5;28;01mraise\u001b[39;00m \u001b[38;5;167;01mValueError\u001b[39;00m(\n\u001b[1;32m   1521\u001b[0m         \u001b[38;5;124m\"\u001b[39m\u001b[38;5;124mPlease open the URL for reading and pass the \u001b[39m\u001b[38;5;124m\"\u001b[39m\n\u001b[1;32m   1522\u001b[0m         \u001b[38;5;124m\"\u001b[39m\u001b[38;5;124mresult to Pillow, e.g. with \u001b[39m\u001b[38;5;124m\"\u001b[39m\n\u001b[1;32m   1523\u001b[0m         \u001b[38;5;124m\"\u001b[39m\u001b[38;5;124m``np.array(PIL.Image.open(urllib.request.urlopen(url)))``.\u001b[39m\u001b[38;5;124m\"\u001b[39m\n\u001b[1;32m   1524\u001b[0m         )\n\u001b[0;32m-> 1525\u001b[0m \u001b[38;5;28;01mwith\u001b[39;00m \u001b[43mimg_open\u001b[49m\u001b[43m(\u001b[49m\u001b[43mfname\u001b[49m\u001b[43m)\u001b[49m \u001b[38;5;28;01mas\u001b[39;00m image:\n\u001b[1;32m   1526\u001b[0m     \u001b[38;5;28;01mreturn\u001b[39;00m (_pil_png_to_float_array(image)\n\u001b[1;32m   1527\u001b[0m             \u001b[38;5;28;01mif\u001b[39;00m \u001b[38;5;28misinstance\u001b[39m(image, PIL\u001b[38;5;241m.\u001b[39mPngImagePlugin\u001b[38;5;241m.\u001b[39mPngImageFile) \u001b[38;5;28;01melse\u001b[39;00m\n\u001b[1;32m   1528\u001b[0m             pil_to_array(image))\n",
      "File \u001b[0;32m~/opt/anaconda3/envs/py39/lib/python3.9/site-packages/PIL/Image.py:3218\u001b[0m, in \u001b[0;36mopen\u001b[0;34m(fp, mode, formats)\u001b[0m\n\u001b[1;32m   3215\u001b[0m     filename \u001b[38;5;241m=\u001b[39m fp\n\u001b[1;32m   3217\u001b[0m \u001b[38;5;28;01mif\u001b[39;00m filename:\n\u001b[0;32m-> 3218\u001b[0m     fp \u001b[38;5;241m=\u001b[39m \u001b[43mbuiltins\u001b[49m\u001b[38;5;241;43m.\u001b[39;49m\u001b[43mopen\u001b[49m\u001b[43m(\u001b[49m\u001b[43mfilename\u001b[49m\u001b[43m,\u001b[49m\u001b[43m \u001b[49m\u001b[38;5;124;43m\"\u001b[39;49m\u001b[38;5;124;43mrb\u001b[39;49m\u001b[38;5;124;43m\"\u001b[39;49m\u001b[43m)\u001b[49m\n\u001b[1;32m   3219\u001b[0m     exclusive_fp \u001b[38;5;241m=\u001b[39m \u001b[38;5;28;01mTrue\u001b[39;00m\n\u001b[1;32m   3221\u001b[0m \u001b[38;5;28;01mtry\u001b[39;00m:\n",
      "\u001b[0;31mFileNotFoundError\u001b[0m: [Errno 2] No such file or directory: 'henley.jpg'"
     ]
    }
   ],
   "source": [
    "X = plt.imread(\"henley.jpg\").convert('L')\n",
    "X = X.mean(axis=2) # take the mean of the rgb intensities (the third dimension)\n",
    "#X = 0.299*X[:, :, 0] + 0.587*X[:, :, 1] + 0.114*X[:, :, 2]\n",
    "\n",
    "plt.title(f'Full Rank :{np.linalg.matrix_rank(X)}')\n",
    "plt.imshow(X)\n",
    "plt.show()"
   ]
  },
  {
   "cell_type": "code",
   "execution_count": null,
   "id": "56d9393c-aa6a-4eaf-afca-49346e79e08f",
   "metadata": {},
   "outputs": [],
   "source": [
    "U, S, V  = np.linalg.svd(X, full_matrices=False)\n",
    "X_approx = np.zeros(shape=X.shape) \n",
    "\n",
    "# do rank reductions for the following ranks \n",
    "ranks     = [5, 10, 200, 700]\n",
    "#ranks    = np.arange(1, 500)\n",
    "\n",
    "# perform rank reductions for ranks defined above and compute reconstruction error\n",
    "X_lowrank = []\n",
    "errors    = []\n",
    "for r in ranks:\n",
    "    X_approx = S[:r] * U[:, :r] @ V[:r, :] # (you can also use the loop version (see cell #5)\n",
    "    errors.append(np.linalg.norm(X_approx - X)/np.linalg.norm(X))\n",
    "    X_lowrank.append(X_approx)\n",
    "\n",
    "#plot values\n",
    "plt.plot(ranks, errors, '-o')\n",
    "plt.xlabel(\"reduced rank $r$\")\n",
    "plt.ylabel(\"Reconstruction error $||A - U \\Sigma V^{T}||_2 / ||A||_2$\")\n",
    "plt.show()"
   ]
  },
  {
   "cell_type": "code",
   "execution_count": null,
   "id": "1abd3d28-abfa-47e5-ba74-e535991ba9dd",
   "metadata": {},
   "outputs": [],
   "source": [
    "U, S, V  = np.linalg.svd(X, full_matrices=False)\n",
    "X_approx = np.zeros(shape=X.shape) \n",
    "\n",
    "# do rank reductions for the following ranks \n",
    "ranks     = [5, 10, 200, 700]\n",
    "#ranks    = np.arange(1, 500)\n",
    "\n",
    "# perform rank reductions for ranks defined above and compute reconstruction error\n",
    "X_lowrank = []\n",
    "errors    = []\n",
    "for r in ranks:\n",
    "    X_approx = S[:r] * U[:, :r] @ V[:r, :] # (you can also use the loop version (see cell #5)\n",
    "    errors.append(np.linalg.norm(X_approx - X)/np.linalg.norm(X))\n",
    "    X_lowrank.append(X_approx)\n",
    "\n",
    "#plot values\n",
    "plt.plot(ranks, errors, '-o')\n",
    "plt.xlabel(\"reduced rank $r$\")\n",
    "plt.ylabel(\"Reconstruction error $\\frac{||A - U \\Sigma V^{T}||_2}{||A||_2}$\")\n",
    "plt.show()"
   ]
  },
  {
   "cell_type": "code",
   "execution_count": null,
   "id": "4bba414c-e257-4873-8a3f-b708118e987f",
   "metadata": {},
   "outputs": [],
   "source": [
    "# compute error and display approximations\n",
    "fig, axs = plt.subplots(1, len(ranks), figsize=(10, 10))\n",
    "\n",
    "for i in range(len(ranks)):    \n",
    "    axs[i].set_title(f\"rank: {ranks[i]} | err: {errors[i]:.3f}\")\n",
    "    axs[i].imshow(X_lowrank[i], cmap='gray')\n",
    "    \n",
    "plt.tight_layout()\n",
    "plt.show()"
   ]
  },
  {
   "cell_type": "code",
   "execution_count": null,
   "id": "1e95c936-fe68-4afb-9743-2ebd4ec50b8b",
   "metadata": {},
   "outputs": [],
   "source": [
    "\n",
    "X = plt.imread(\"halfdome.jpg\")\n",
    "X.shape"
   ]
  },
  {
   "cell_type": "code",
   "execution_count": null,
   "id": "40e6d7b7-da01-4a34-8ea3-3025f5b053cc",
   "metadata": {},
   "outputs": [],
   "source": [
    "U0, S0, V0  = np.linalg.svd(X0, full_matrices=False)\n",
    "U1, S1, V1  = np.linalg.svd(X1, full_matrices=False)\n",
    "U2, S2, V2  = np.linalg.svd(X2, full_matrices=False)"
   ]
  },
  {
   "cell_type": "code",
   "execution_count": null,
   "id": "4f0dab1a-06d4-4707-a56b-c4fa88768488",
   "metadata": {},
   "outputs": [],
   "source": [
    "X = X0\n",
    "for r in ranks:\n",
    "    X_approx = S0[:r] * U0[:, :r] @ V0[:r, :] # (you can also use the loop version (see cell #5)\n",
    "    errors.append(np.linalg.norm(X_approx - X)/np.linalg.norm(X))\n",
    "    X_lowrank.append(X_approx)\n",
    "errors"
   ]
  },
  {
   "cell_type": "code",
   "execution_count": null,
   "id": "bf122cb2-2055-4b43-bdf0-9b93aa00ffbc",
   "metadata": {},
   "outputs": [],
   "source": [
    "X = X1\n",
    "for r in ranks:\n",
    "    X_approx = S1[:r] * U1[:, :r] @ V1[:r, :] # (you can also use the loop version (see cell #5)\n",
    "    errors.append(np.linalg.norm(X_approx - X)/np.linalg.norm(X))\n",
    "    X_lowrank.append(X_approx)\n",
    "errors"
   ]
  },
  {
   "cell_type": "code",
   "execution_count": null,
   "id": "7bef47b8-5701-4cb7-99a6-269d20ca0cb5",
   "metadata": {},
   "outputs": [],
   "source": [
    "X = X2\n",
    "for r in ranks:\n",
    "    X_approx = S2[:r] * U2[:, :r] @ V2[:r, :] # (you can also use the loop version (see cell #5)\n",
    "    errors.append(np.linalg.norm(X_approx - X)/np.linalg.norm(X))\n",
    "    X_lowrank.append(X_approx)\n",
    "errors"
   ]
  },
  {
   "cell_type": "code",
   "execution_count": null,
   "id": "f0840ae2-827f-4456-b315-b5783e6da1a1",
   "metadata": {},
   "outputs": [],
   "source": [
    "for r in ranks:\n",
    "    X_approx = S[:r] * U[:, :r] @ V[:r, :] # (you can also use the loop version (see cell #5)\n",
    "    errors.append(np.linalg.norm(X_approx - X)/np.linalg.norm(X))\n",
    "    X_lowrank.append(X_approx)\n",
    "errors"
   ]
  },
  {
   "cell_type": "code",
   "execution_count": null,
   "id": "f4edf67a-5e5e-419d-bc35-59051005f1fd",
   "metadata": {},
   "outputs": [],
   "source": []
  },
  {
   "cell_type": "code",
   "execution_count": null,
   "id": "329d5ec2-9251-40ab-8039-7a9b844d4a5a",
   "metadata": {},
   "outputs": [],
   "source": [
    "plt.imshow(X[:, :, 2])"
   ]
  },
  {
   "cell_type": "code",
   "execution_count": null,
   "id": "e2c0ec9d-7b16-4c1c-825e-a1413c5ebdbc",
   "metadata": {},
   "outputs": [],
   "source": []
  }
 ],
 "metadata": {
  "kernelspec": {
   "display_name": "Python 3 (ipykernel)",
   "language": "python",
   "name": "python3"
  },
  "language_info": {
   "codemirror_mode": {
    "name": "ipython",
    "version": 3
   },
   "file_extension": ".py",
   "mimetype": "text/x-python",
   "name": "python",
   "nbconvert_exporter": "python",
   "pygments_lexer": "ipython3",
   "version": "3.11.7"
  }
 },
 "nbformat": 4,
 "nbformat_minor": 5
}

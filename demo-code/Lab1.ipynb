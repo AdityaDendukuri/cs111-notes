{
 "cells": [
  {
   "cell_type": "code",
   "execution_count": 7,
   "id": "b63b77c8-9248-45b8-86ac-0662593d682c",
   "metadata": {},
   "outputs": [],
   "source": [
    "import numpy as np\n",
    "import numpy.linalg as npla"
   ]
  },
  {
   "cell_type": "markdown",
   "id": "adacd850-944e-43b2-ad34-e4ccd93199cd",
   "metadata": {},
   "source": [
    "### <u>Part 1 : Matrices and Vectors in Python</U>\n",
    "\n",
    "In Python both matrices and vectors are defined as numpy arrays (np.array). A numpy array \n",
    "\n",
    "#### Consider a random matrix of dimensions (3, 4)"
   ]
  },
  {
   "cell_type": "code",
   "execution_count": 23,
   "id": "5d0adcc7-5dd6-41b6-87c2-0b27deb820eb",
   "metadata": {},
   "outputs": [
    {
     "data": {
      "text/plain": [
       "array([[0.23974787, 0.60437791, 0.13142659, 0.37842571],\n",
       "       [0.26071109, 0.65788916, 0.01327057, 0.86411454],\n",
       "       [0.30197165, 0.83024751, 0.14300021, 0.5171466 ]])"
      ]
     },
     "execution_count": 23,
     "metadata": {},
     "output_type": "execute_result"
    }
   ],
   "source": [
    "# Define random matrix of size (3, 4)\n",
    "A = np.random.rand(3, 4) \n",
    "A"
   ]
  },
  {
   "cell_type": "code",
   "execution_count": 32,
   "id": "11971d6d-66ea-4565-ae6c-801b97260918",
   "metadata": {},
   "outputs": [
    {
     "name": "stdout",
     "output_type": "stream",
     "text": [
      "Dimensions of array A: (3, 4)\n",
      "Number rows of array A: (3, 4)\n",
      "Number of columns of array A: (3, 4)\n"
     ]
    }
   ],
   "source": [
    "# Getting the dimensions (called \"shape\" in python lingo) \n",
    "A_dims = A.shape\n",
    "n_rows = A_dims[0]\n",
    "n_cols = A_dims[1]\n",
    "\n",
    "print(\"Dimensions of array A:\", A_dims)\n",
    "print(\"Number rows of array A:\", A_dims)\n",
    "print(\"Number of columns of array A:\", A_dims)"
   ]
  },
  {
   "cell_type": "markdown",
   "id": "a97ea910-a98f-4ad1-b202-13a31780482d",
   "metadata": {},
   "source": [
    "### <u>Part 1 : Solving Linear equations</U>\n",
    "\n",
    "In engineering, you will run into various scenarios where you will have to solve for a vector $x \\in \\mathbb{R}^{n}$ in equations such as \n",
    "\n",
    "$$ \n",
    "\\mathbf{A} x = b\n",
    "$$\n",
    "\n",
    "Here, $\\mathbf{A} \\in \\mathbb{R}^{n \\times n}$ and $b \\in \\mathbb{R}^{n}$ respectively. What you're looking at is a <i>system of linear equations</i>. Let us look at an examle by generating random $\\mathbf{A}$ and $b$ for $n = 5$ - \n"
   ]
  },
  {
   "cell_type": "code",
   "execution_count": 22,
   "id": "b087f6e0-cac1-4899-a406-9b31447ac822",
   "metadata": {},
   "outputs": [
    {
     "name": "stdout",
     "output_type": "stream",
     "text": [
      "A=\n",
      " [[0.7508889  0.39909641 0.85473418 0.74605117 0.73225394]\n",
      " [0.3856509  0.24321184 0.01662001 0.55318124 0.84294132]\n",
      " [0.02952536 0.62477427 0.75466997 0.63127906 0.47129999]\n",
      " [0.88346628 0.22183041 0.83453967 0.13870635 0.13251057]\n",
      " [0.56028335 0.57216218 0.78825358 0.13817955 0.05401819]]\n",
      "b=\n",
      " [0.87017695 0.56499835 0.24374936 0.06342172 0.50860741]\n"
     ]
    }
   ],
   "source": [
    "A = np.random.rand(5,5)\n",
    "b = np.random.rand(5)\n",
    "\n",
    "print(\"A=\\n\", A)\n",
    "print(\"b=\\n\", b)"
   ]
  },
  {
   "cell_type": "markdown",
   "id": "1051675d-9e59-4b0e-84c0-5518e2b6f0ab",
   "metadata": {},
   "source": [
    "Before we talk about solving the equations, let us talk about inverse first. The inverse of a matrix $\\mathbf{A}$, as denoted by $\\mathbf{A}^{-1}$, is a matrix that satisfies the following condition\n",
    "$$\n",
    "\\mathbf{A} \\mathbf{A}^{-1} = \\mathbf{A}^{-1} \\mathbf{A} = \\mathbf{I},\n",
    "$$\n",
    "where $\\mathbf{I}$ is the identity matrix. "
   ]
  },
  {
   "cell_type": "code",
   "execution_count": null,
   "id": "fa5ee474-09fb-4bff-b808-b339f1ea7d92",
   "metadata": {},
   "outputs": [],
   "source": []
  }
 ],
 "metadata": {
  "kernelspec": {
   "display_name": "Python 3 (ipykernel)",
   "language": "python",
   "name": "python3"
  },
  "language_info": {
   "codemirror_mode": {
    "name": "ipython",
    "version": 3
   },
   "file_extension": ".py",
   "mimetype": "text/x-python",
   "name": "python",
   "nbconvert_exporter": "python",
   "pygments_lexer": "ipython3",
   "version": "3.9.18"
  }
 },
 "nbformat": 4,
 "nbformat_minor": 5
}

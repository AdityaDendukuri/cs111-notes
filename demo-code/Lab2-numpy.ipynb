{
 "cells": [
  {
   "cell_type": "code",
   "execution_count": 1,
   "id": "3690c3f4-42ca-4a84-baa3-ba7d43f118df",
   "metadata": {},
   "outputs": [],
   "source": [
    "import numpy as np "
   ]
  },
  {
   "cell_type": "markdown",
   "id": "0e20d0b0-f6ce-4082-af3b-d93b3984b44b",
   "metadata": {},
   "source": [
    "# Section 2\n",
    "\n",
    "1. (Review) Linear systems (Ax = b) and error\n",
    "2. Array slicing and manipulation\n",
    "3. Symmetric matrices\n",
    "4. Permutations \n"
   ]
  },
  {
   "cell_type": "markdown",
   "id": "7aee64fa-10a3-4feb-ad91-c4a3cc799aad",
   "metadata": {},
   "source": [
    "\n",
    "### <u><b>Linear system</b></u> \n",
    "A linear system is of the following form, \n",
    "$$\n",
    "A x = b. \\\\ \n",
    "$$\n",
    "\n",
    "The goal is to solve for the vector $x$, given the matrix $A$ and the vector $b$. Let us make up a random example and use the tools python gives us to solve it!"
   ]
  },
  {
   "cell_type": "code",
   "execution_count": 2,
   "id": "6cee41db-e18e-48bd-9cb2-39d928ec95eb",
   "metadata": {},
   "outputs": [
    {
     "name": "stdout",
     "output_type": "stream",
     "text": [
      "A: \n",
      " [[0.2794836  0.74239139 0.0180318 ]\n",
      " [0.01341511 0.85416331 0.92952869]\n",
      " [0.58126511 0.80373372 0.30415627]]\n",
      "x: \n",
      " [0.65949042 0.86146338 0.8560225 ]\n",
      "b: \n",
      " [0.83929537 1.54037502 1.33609056]\n"
     ]
    }
   ],
   "source": [
    "# Consider a random example of a linear system \n",
    "A = np.random.rand(3, 3) \n",
    "x = np.random.rand(3)      # true solution \n",
    "b = A @ x\n",
    "\n",
    "print(\"A: \\n\", A)\n",
    "print(\"x: \\n\", x)\n",
    "print(\"b: \\n\", b)"
   ]
  },
  {
   "cell_type": "markdown",
   "id": "3175e4de-c94c-4eff-98b2-279e70be96fa",
   "metadata": {},
   "source": [
    "## Solving the linear system (what happens behind np.linalg.solve)\n",
    "\n",
    "Consider the <i>inverse</i> of $A$, denoted as $A^{-1}$, which is a matrix that satisfies the following condition \n",
    "$$\n",
    "A^{-1}A = AA^{-1} = I.\n",
    "$$\n",
    "The solution is computed by multiplaying the linear system with the inverse on both sides\n",
    "$$\n",
    "A^{-1}Ax = A^{-1}b \\\\ \n",
    "$$\n",
    "$$\n",
    "x = A^{-1}b.\n",
    "$$\n",
    "If you remember from your linear algebra course, this only works for full-rank matrices. You can implement this yourself, but it is recommended to use the numpy solver (it is faster)."
   ]
  },
  {
   "cell_type": "code",
   "execution_count": 3,
   "id": "20352569-ce1b-4925-9b66-31342abdc586",
   "metadata": {},
   "outputs": [
    {
     "name": "stdout",
     "output_type": "stream",
     "text": [
      "\n",
      " derived soln (np.linalg.inv(A) @ b): \n",
      " [0.65949042 0.86146338 0.8560225 ]\n",
      "\n",
      " numpy soln np.linalg.solve(A, b) (recommended):   \n",
      " [0.65949042 0.86146338 0.8560225 ]\n"
     ]
    }
   ],
   "source": [
    "x_approx_der   = np.linalg.inv(A) @ b   # derived solution\n",
    "x_approx_npy   = np.linalg.solve(A, b)  # numpy method\n",
    "\n",
    "print(\"\\n derived soln (np.linalg.inv(A) @ b): \\n\", x_approx_der)\n",
    "print(\"\\n numpy soln np.linalg.solve(A, b) (recommended):   \\n\", x_approx_npy)"
   ]
  },
  {
   "cell_type": "markdown",
   "id": "9eeac1ae-bd53-4749-8fd3-2d4ea948ca82",
   "metadata": {},
   "source": [
    "## <b><u>Computing error</u></b>\n",
    "\n",
    "Let $x'$ be an approximation of $x$ computed as shown above. The <i> residual vector </i> $r$is the difference between $x$ and $x'$ (in this case $r = x' - x$). Consider the $L_2$ norm.\n",
    "\n",
    "$$\n",
    "|| x ||_2 = \\left( \\sum_{i} |x_i|^2 \\right)^{\\frac{1}{2}}\n",
    "$$\n",
    "\n",
    "1. <b> Absolute Error </b>: Measures difference between actual value and computed value. Interpreted as distance in Euclidean space. \n",
    "   $$ ||r||_2 = || x - x' ||_2 $$\n",
    "2. <b> Relative Error </b>: Absolute error normalized by the norm of the actual value. \n",
    "   $$ \\frac{|| x - x' ||_2}{|| x ||_2} $$\n"
   ]
  },
  {
   "cell_type": "code",
   "execution_count": 24,
   "id": "0e168797-ee08-4aa0-b872-6763bc25f7c9",
   "metadata": {},
   "outputs": [
    {
     "name": "stdout",
     "output_type": "stream",
     "text": [
      "Absolute Error:  7.771561172376096e-16\n",
      "Relative Error:  5.623567394213557e-16\n"
     ]
    }
   ],
   "source": [
    "res_vec = x_approx_npy - x\n",
    "abs_err = np.linalg.norm(res_vec) \n",
    "rel_err = np.linalg.norm(res_vec) / np.linalg.norm(x)\n",
    "\n",
    "print(\"Absolute Error: \", abs_err)\n",
    "print(\"Relative Error: \", rel_err)"
   ]
  },
  {
   "cell_type": "markdown",
   "id": "f50022b7-dfe7-476a-bb68-9a202e4a69d1",
   "metadata": {},
   "source": [
    "## <b><u>Array Slicing</u></b>\n",
    "\n",
    "\n",
    "Matrices can be accessed and manipulated in many ways. This is an incredibly useful tool to efficiently manipulate the rows of matrices for methods such as Gaussian elem. \n",
    "\n",
    "Let us construct a simple matrix as shown below "
   ]
  },
  {
   "cell_type": "code",
   "execution_count": 21,
   "id": "5ce7dcc0-76e1-475f-9339-5cd47053df75",
   "metadata": {},
   "outputs": [
    {
     "data": {
      "text/plain": [
       "array([[ 0,  1,  2,  3,  4],\n",
       "       [ 5,  6,  7,  8,  9],\n",
       "       [10, 11, 12, 13, 14],\n",
       "       [15, 16, 17, 18, 19],\n",
       "       [20, 21, 22, 23, 24]])"
      ]
     },
     "execution_count": 21,
     "metadata": {},
     "output_type": "execute_result"
    }
   ],
   "source": [
    "A = np.arange(0, 25).reshape(5, 5) \n",
    "A"
   ]
  },
  {
   "cell_type": "markdown",
   "id": "76f45d1d-5c8c-492b-9576-acc156c1ccae",
   "metadata": {},
   "source": [
    "To access the $m^{th}$ row and $n^{th}$ column, the syntax is A\\[m-1, n-1\\] or A\\[m-1\\]\\[n-1\\]"
   ]
  },
  {
   "cell_type": "code",
   "execution_count": 22,
   "id": "408531f6-29a3-4fb5-a773-5d10856b637c",
   "metadata": {},
   "outputs": [
    {
     "name": "stdout",
     "output_type": "stream",
     "text": [
      "second row, third column:  7\n",
      "third row, second column:  11\n",
      "fifth row, third column:   22\n",
      "fourth row, first column:  15\n"
     ]
    }
   ],
   "source": [
    "# Access the element on the second row and third column\n",
    "print(\"second row, third column: \", A[1, 2])\n",
    "print(\"third row, second column: \", A[2, 1])\n",
    "print(\"fifth row, third column:  \", A[4, 2])\n",
    "print(\"fourth row, first column: \", A[3, 0])"
   ]
  },
  {
   "cell_type": "markdown",
   "id": "10b7b185-4aad-4c1e-90fa-a6b1fbd183b1",
   "metadata": {},
   "source": [
    "You can also access more than one values and get a new array. The syntax for doing so is the same as before but we use the slice (:) operator to access more than one value. Some examples to show how it's used - \n",
    "\n",
    "1. A\\[i, :\\] retrieves the entire $i^{th}$ row (notice how we are specifying the row index, but using the : operator to specify the number of column elements to consider.\n",
    "2. A\\[:, i\\] retrieves the entire $i^{th}$ column.\n",
    "3. A\\[0:3, 0:3\\] retrieves the top left 3x3 matrix block from A. "
   ]
  },
  {
   "cell_type": "code",
   "execution_count": 23,
   "id": "79072c9f-a19c-4df4-aad6-865b196db6ac",
   "metadata": {},
   "outputs": [
    {
     "name": "stdout",
     "output_type": "stream",
     "text": [
      "\n",
      " full matrix A: \n",
      " [[ 0  1  2  3  4]\n",
      " [ 5  6  7  8  9]\n",
      " [10 11 12 13 14]\n",
      " [15 16 17 18 19]\n",
      " [20 21 22 23 24]]\n",
      "\n",
      " first row A[0, :]: \n",
      " [0 1 2 3 4]\n",
      "\n",
      " first col A[:, 0]: \n",
      " [ 0  5 10 15 20]\n",
      "\n",
      " the first three elements of the third row A[3, 0:3]: \n",
      " [15 16 17]\n",
      "\n",
      " top left 3x3 matrix A[0:3, 0:3]: \n",
      " [[ 0  1  2]\n",
      " [ 5  6  7]\n",
      " [10 11 12]]\n",
      "\n",
      " center 3x3 matrix A[1:4, 1:4]: \n",
      " [[ 6  7  8]\n",
      " [11 12 13]\n",
      " [16 17 18]]\n",
      "\n",
      " You can also pass in lists to specify which rows/cols to fetch (eg. To slice rows 1 and 3 - A[[1, 3], :]): \n",
      " [[ 0  1  2  3  4]\n",
      " [15 16 17 18 19]]\n"
     ]
    }
   ],
   "source": [
    "first_row            = A[0, :]\n",
    "first_col            = A[:, 0]\n",
    "first_row_three_vals = A[3, 0:3]\n",
    "top_left_3x3_matrix  = A[0:3, 0:3]\n",
    "center_3x3_matrix    = A[1:4, 1:4]\n",
    "specified_sub_matrix = A[[0, 3], :]\n",
    "\n",
    "print(\"\\n full matrix A: \\n\", A)\n",
    "print(\"\\n first row A[0, :]: \\n\", first_row)\n",
    "print(\"\\n first col A[:, 0]: \\n\", first_col)\n",
    "print(\"\\n the first three elements of the third row A[3, 0:3]: \\n\", first_row_three_vals)\n",
    "print(\"\\n top left 3x3 matrix A[0:3, 0:3]: \\n\", top_left_3x3_matrix)\n",
    "print(\"\\n center 3x3 matrix A[1:4, 1:4]: \\n\", center_3x3_matrix)\n",
    "print(\"\\n You can also pass in lists to specify which rows/cols to fetch (eg. To slice rows 1 and 3 - A[[1, 3], :]): \\n\", specified_sub_matrix)\n",
    "\n"
   ]
  },
  {
   "cell_type": "markdown",
   "id": "8d43e3da-2562-4dd1-b645-3c2ab99c7e80",
   "metadata": {},
   "source": [
    "You can also set multiple values at once with an array similarly as above. For example to set an entire row to zero."
   ]
  },
  {
   "cell_type": "code",
   "execution_count": 13,
   "id": "9d8a9feb-aee0-4821-966e-016033f0a2e4",
   "metadata": {},
   "outputs": [
    {
     "name": "stdout",
     "output_type": "stream",
     "text": [
      "\n",
      " original matrix: \n",
      " [[1. 1. 1. 1. 1.]\n",
      " [2. 2. 2. 2. 2.]\n",
      " [3. 3. 3. 3. 3.]\n",
      " [4. 4. 4. 4. 4.]\n",
      " [5. 5. 5. 5. 5.]]\n",
      "\n",
      " set the entire row to 3 (A[0, :] = 3): \n",
      " [[3. 3. 3. 3. 3.]\n",
      " [2. 2. 2. 2. 2.]\n",
      " [3. 3. 3. 3. 3.]\n",
      " [4. 4. 4. 4. 4.]\n",
      " [5. 5. 5. 5. 5.]]\n",
      "\n",
      " set the first two elements of the second row as [1, 7] (A[1, 0:2] = [1, 7] ) : \n",
      " [[3. 3. 3. 3. 3.]\n",
      " [1. 7. 2. 2. 2.]\n",
      " [3. 3. 3. 3. 3.]\n",
      " [4. 4. 4. 4. 4.]\n",
      " [5. 5. 5. 5. 5.]]\n",
      "\n",
      " set the bottom right 3x3 block to identity (A[2:5, 2:5] = np.eye(3)): \n",
      " [[3. 3. 3. 3. 3.]\n",
      " [1. 7. 2. 2. 2.]\n",
      " [3. 3. 1. 0. 0.]\n",
      " [4. 4. 0. 1. 0.]\n",
      " [5. 5. 0. 0. 1.]]\n",
      "\n",
      " perform the row operation r2 = r*r1 - r2 (A[1, :] = 3*A[0, :] - A[1, :]): \n",
      " [[3. 3. 3. 3. 3.]\n",
      " [8. 2. 7. 7. 7.]\n",
      " [3. 3. 1. 0. 0.]\n",
      " [4. 4. 0. 1. 0.]\n",
      " [5. 5. 0. 0. 1.]]\n"
     ]
    }
   ],
   "source": [
    "# set first rows to 3\n",
    "print(\"\\n original matrix: \\n\", A)\n",
    "\n",
    "A[0, :] = 3           \n",
    "print(\"\\n set the entire row to 3 (A[0, :] = 3): \\n\", A)\n",
    "\n",
    "# set the first two elements of the second row with [1, 7]\n",
    "A[1, 0:2] = [1, 7]        \n",
    "print(\"\\n set the first two elements of the second row as [1, 7] (A[1, 0:2] = [1, 7] ) : \\n\", A)\n",
    "\n",
    "# set the bottom right 3x3 block to a 3x3 identity matrix\n",
    "A[2:5, 2:5] = np.eye(3)\n",
    "print(\"\\n set the bottom right 3x3 block to identity (A[2:5, 2:5] = np.eye(3)): \\n\", A)\n",
    "\n",
    "# perform the row operation r_2 = 3*r1 - r2\n",
    "A[1, :] = 3*A[0, :] - A[1, :]\n",
    "print(\"\\n perform the row operation r2 = r*r1 - r2 (A[1, :] = 3*A[0, :] - A[1, :]): \\n\", A)"
   ]
  },
  {
   "cell_type": "markdown",
   "id": "6850d7c6-0c71-4b70-b566-baf7e1df5f3c",
   "metadata": {},
   "source": [
    "# Permutations\n",
    "\n",
    "Flipping specific rows (or columns) of a matrix is referred to as permutations. "
   ]
  },
  {
   "cell_type": "code",
   "execution_count": 8,
   "id": "24069d0a-8522-4298-b9fe-52b2d768c0e5",
   "metadata": {},
   "outputs": [
    {
     "data": {
      "text/plain": [
       "array([[1., 1., 1., 1., 1.],\n",
       "       [2., 2., 2., 2., 2.],\n",
       "       [3., 3., 3., 3., 3.],\n",
       "       [4., 4., 4., 4., 4.],\n",
       "       [5., 5., 5., 5., 5.]])"
      ]
     },
     "execution_count": 8,
     "metadata": {},
     "output_type": "execute_result"
    }
   ],
   "source": [
    "#Let us construct a matrix as follows by stacking the vectors [1 1 1 1 1], [2 2 2 2 2] ... [5 5 5 5 5]\n",
    "A = np.array([   np.ones(5), \n",
    "               2*np.ones(5), \n",
    "               3*np.ones(5), \n",
    "               4*np.ones(5), \n",
    "               5*np.ones(5)  ])\n",
    "A"
   ]
  },
  {
   "cell_type": "code",
   "execution_count": 9,
   "id": "1e3ab6f3-b019-48e0-aed0-5ef28f675cfe",
   "metadata": {},
   "outputs": [
    {
     "name": "stdout",
     "output_type": "stream",
     "text": [
      "\n",
      " Original matrix (A): \n",
      " [[1. 1. 1. 1. 1.]\n",
      " [2. 2. 2. 2. 2.]\n",
      " [3. 3. 3. 3. 3.]\n",
      " [4. 4. 4. 4. 4.]\n",
      " [5. 5. 5. 5. 5.]]\n",
      "\n",
      " Permutation matrix to switch rows 2 and 3 (P1): \n",
      " [[1. 0. 0. 0. 0.]\n",
      " [0. 0. 1. 0. 0.]\n",
      " [0. 1. 0. 0. 0.]\n",
      " [0. 0. 0. 1. 0.]\n",
      " [0. 0. 0. 0. 1.]]\n",
      "\n",
      " Permuted matrix (P1 @ A): \n",
      " [[1. 1. 1. 1. 1.]\n",
      " [3. 3. 3. 3. 3.]\n",
      " [2. 2. 2. 2. 2.]\n",
      " [4. 4. 4. 4. 4.]\n",
      " [5. 5. 5. 5. 5.]]\n",
      "\n",
      " Apply permutation again to flip it back (P1 @ A): \n",
      " [[1. 1. 1. 1. 1.]\n",
      " [2. 2. 2. 2. 2.]\n",
      " [3. 3. 3. 3. 3.]\n",
      " [4. 4. 4. 4. 4.]\n",
      " [5. 5. 5. 5. 5.]]\n"
     ]
    }
   ],
   "source": [
    "# A permutation is an operation that flips the rows or columns of a matrix. This is done using permutation matrices.\n",
    "# For a matrix A and a permutation matrix P, the operation PA would flip a specific row and col of A. \n",
    "print(\"\\n Original matrix (A): \\n\", A)\n",
    "\n",
    "# simplest permutation matrix : the identity matrix! which does no flipping. \n",
    "I = np.eye(5) \n",
    "\n",
    "# the permutation matrices are formed by flipping a specific rows (or cols) of the identity matrix that you want \n",
    "# in this case, we will construct a permutation matrix that flips rows 2 and 3 \n",
    "P1 = np.eye(5)\n",
    "P1[1, :] = I[2, :]\n",
    "P1[2, :] = I[1, :]\n",
    "print(\"\\n Permutation matrix to switch rows 2 and 3 (P1): \\n\", P1)\n",
    "\n",
    "# this permutation matrix will flip rows 2 and 3 of the matrix A-\n",
    "A = P1 @ A\n",
    "print(\"\\n Permuted matrix (P1 @ A): \\n\", A)\n",
    "\n",
    "# applying the permutation again, we flip it back\n",
    "A = P1 @ A\n",
    "print(\"\\n Apply permutation again to flip it back (P1 @ A): \\n\", A)"
   ]
  },
  {
   "cell_type": "code",
   "execution_count": 14,
   "id": "9b17f49f-3cef-486e-988e-c3c013bdb6da",
   "metadata": {},
   "outputs": [
    {
     "name": "stdout",
     "output_type": "stream",
     "text": [
      "\n",
      "All possible permutation matrices for 5x5 matrices\n",
      "\n",
      " P to flip row 1 and 2: \n",
      " [[0. 1. 0.]\n",
      " [1. 0. 0.]\n",
      " [0. 0. 1.]]\n",
      "\n",
      " P to flip row 1 and 3: \n",
      " [[0. 0. 1.]\n",
      " [0. 1. 0.]\n",
      " [1. 0. 0.]]\n",
      "\n",
      " P to flip row 2 and 3: \n",
      " [[1. 0. 0.]\n",
      " [0. 0. 1.]\n",
      " [0. 1. 0.]]\n",
      "\n",
      " The same can be done for columns! Just do the same thing column wise (eg. flip I[:, 1] and I[:, 2])\n",
      "\n",
      " P to flip col 1 and 2: \n",
      " [[0. 1. 0.]\n",
      " [1. 0. 0.]\n",
      " [0. 0. 1.]]\n",
      "\n",
      " P to flip col 1 and 3: \n",
      " [[0. 0. 1.]\n",
      " [0. 1. 0.]\n",
      " [1. 0. 0.]]\n",
      "\n",
      " P to flip col 2 and 3: \n",
      " [[1. 0. 0.]\n",
      " [0. 0. 1.]\n",
      " [0. 1. 0.]]\n"
     ]
    }
   ],
   "source": [
    "# for an nxn matrix, there are n! possible permutations, \n",
    "# for a matrix of size 2 there are 2! = 1 possible permutations \n",
    "# Let us print out the permutation matrices for a 5x5 matrix\n",
    "\n",
    "print(\"\\nAll possible permutation matrices for 5x5 matrices\")\n",
    "# permutation matrices to flip rows\n",
    "I = np.eye(3)\n",
    "for i in range(3):\n",
    "    for j in range(i+1, 3):\n",
    "        P1 = np.eye(3)\n",
    "        P1[i, :] = I[j, :]\n",
    "        P1[j, :] = I[i, :]\n",
    "        print(f\"\\n P to flip row {i+1} and {j+1}: \\n {P1}\")\n",
    "\n",
    "# permutation matrices to flip cols\n",
    "print(\"\\n The same can be done for columns! Just do the same thing column wise (eg. flip I[:, 1] and I[:, 2])\")\n",
    "for i in range(3):\n",
    "    for j in range(i+1, 3):\n",
    "        P1 = np.eye(3)\n",
    "        P1[:, i] = I[:, j]\n",
    "        P1[:, j] = I[:, i]\n",
    "        print(f\"\\n P to flip col {i+1} and {j+1}: \\n {P1}\")"
   ]
  },
  {
   "cell_type": "code",
   "execution_count": null,
   "id": "f84435d0-d077-434d-ba04-ef3fe570f403",
   "metadata": {},
   "outputs": [],
   "source": []
  }
 ],
 "metadata": {
  "kernelspec": {
   "display_name": "Python 3 (ipykernel)",
   "language": "python",
   "name": "python3"
  },
  "language_info": {
   "codemirror_mode": {
    "name": "ipython",
    "version": 3
   },
   "file_extension": ".py",
   "mimetype": "text/x-python",
   "name": "python",
   "nbconvert_exporter": "python",
   "pygments_lexer": "ipython3",
   "version": "3.11.7"
  }
 },
 "nbformat": 4,
 "nbformat_minor": 5
}

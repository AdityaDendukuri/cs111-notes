{
 "cells": [
  {
   "cell_type": "markdown",
   "id": "3cb866c1-04e7-4ee3-8e5f-24f9f69ec546",
   "metadata": {},
   "source": [
    "# Lab 6 - Floating Point Numbers\n",
    "\n",
    "It is somewhat straightforawrd to represent an integer in a block of memory, but what about real numbers? Computational science almost exclusively works on \n",
    "\n",
    "### IEEE Floating Point Standard\n",
    "One way to store a real number is to represent it as a collection of integers, and store them in memory instead. There are many ways to approach this, but the IEEE standard is used pretty much everywhere. Any real number can be expressed in it's base-10 scientific form. \n",
    "\n",
    "$$\n",
    "    10.04 = 1.004 \\times 10^{-1}\n",
    "$$\n",
    "\n",
    "We can pick out the three integers from the scientific notation that uniquely map to the base-10 number $10.04$."
   ]
  },
  {
   "cell_type": "code",
   "execution_count": 1,
   "id": "79144c75-26f9-4584-8f16-903415110a74",
   "metadata": {},
   "outputs": [],
   "source": [
    "# block of memory (8 bits and 16 bits) \n",
    "MEM_8BITS  = [0] * 8\n",
    "MEM_16BITS = [0] * 16 \n",
    "\n",
    "def get_sign(x):\n",
    "    return x[0]\n",
    "\n",
    "def get_mantissa(x): \n",
    "     "
   ]
  },
  {
   "cell_type": "code",
   "execution_count": 2,
   "id": "4660b8b7-4102-4463-8687-028cdd1b4f8f",
   "metadata": {},
   "outputs": [
    {
     "data": {
      "text/plain": [
       "[0, 0, 0, 0, 0, 0, 0, 0, 0, 0, 0, 0, 0, 0, 0, 0]"
      ]
     },
     "execution_count": 2,
     "metadata": {},
     "output_type": "execute_result"
    }
   ],
   "source": [
    "MEM16"
   ]
  }
 ],
 "metadata": {
  "kernelspec": {
   "display_name": "Python 3 (ipykernel)",
   "language": "python",
   "name": "python3"
  },
  "language_info": {
   "codemirror_mode": {
    "name": "ipython",
    "version": 3
   },
   "file_extension": ".py",
   "mimetype": "text/x-python",
   "name": "python",
   "nbconvert_exporter": "python",
   "pygments_lexer": "ipython3",
   "version": "3.11.9"
  }
 },
 "nbformat": 4,
 "nbformat_minor": 5
}

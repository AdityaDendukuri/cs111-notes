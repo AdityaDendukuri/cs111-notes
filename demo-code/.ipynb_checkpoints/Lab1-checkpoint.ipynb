{
 "cells": [
  {
   "cell_type": "code",
   "execution_count": 2,
   "id": "b63b77c8-9248-45b8-86ac-0662593d682c",
   "metadata": {},
   "outputs": [],
   "source": [
    "import numpy as np"
   ]
  },
  {
   "cell_type": "markdown",
   "id": "a97ea910-a98f-4ad1-b202-13a31780482d",
   "metadata": {},
   "source": [
    "# Excersise 1 : Linear equations solving\n",
    "\n",
    "In various use cases of engineering, you will run into various scenarios where you will have to solve for a vector $x \\in \\mathbb{R}^{n}$ in equations such as \n",
    "\n",
    "$$ \n",
    "\\mathbf{A} x = b\n",
    "$$\n",
    "\n",
    "Here, $\\mathbf{A} \\in \\mathbb{R}^{n \\times n}$ and $b \\in \\mathbb{R}^{n}$ respectively. These are called \\textit{system of solving linear equations.} \n",
    "\n",
    "()\n",
    "\n",
    "dsa"
   ]
  },
  {
   "cell_type": "code",
   "execution_count": null,
   "id": "b087f6e0-cac1-4899-a406-9b31447ac822",
   "metadata": {},
   "outputs": [],
   "source": []
  }
 ],
 "metadata": {
  "kernelspec": {
   "display_name": "Python 3 (ipykernel)",
   "language": "python",
   "name": "python3"
  },
  "language_info": {
   "codemirror_mode": {
    "name": "ipython",
    "version": 3
   },
   "file_extension": ".py",
   "mimetype": "text/x-python",
   "name": "python",
   "nbconvert_exporter": "python",
   "pygments_lexer": "ipython3",
   "version": "3.9.18"
  }
 },
 "nbformat": 4,
 "nbformat_minor": 5
}
